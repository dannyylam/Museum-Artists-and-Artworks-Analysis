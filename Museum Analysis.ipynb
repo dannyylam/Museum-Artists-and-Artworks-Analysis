{
 "cells": [
  {
   "cell_type": "markdown",
   "metadata": {},
   "source": [
    "# Museum Artists and Artworks Analysis\n",
    "By Danny Lam <br>\n",
    "December 9, 2021"
   ]
  },
  {
   "cell_type": "markdown",
   "metadata": {},
   "source": [
    "\n",
    "## Assessment \n",
    "\n",
    "---\n",
    "1. Which artist in this data set lived the longest?\n",
    "2. Who are the top 10 artists by the number of artworks?\n",
    "3. Which artist created the most artwork by total surface area?\n",
    "4. Did any artists have artwork acquired during their lifetime?\n",
    "5. Please review the quality of the data and present any issues"
   ]
  },
  {
   "cell_type": "markdown",
   "metadata": {},
   "source": [
    "\n",
    "## Data \n",
    "---\n",
    "The data used in this assessment is sourced from the Mueseum of Modern Art (MoMA) on Kaggle:<br>\n",
    "https://www.kaggle.com/momanyc/museum-collection <br>\n",
    "\n",
    "There are 2 datasets:\n",
    "- artists = 15,091 records and 6 columns\n",
    "- artworks = 130,262 records and 21 columns\n"
   ]
  },
  {
   "cell_type": "code",
   "execution_count": 94,
   "metadata": {},
   "outputs": [],
   "source": [
    "#import libraries\n",
    "\n",
    "import pandas as pd\n",
    "import numpy as np\n",
    "import warnings #let us hide warnings from displaying in jupyter notebook\n",
    "warnings.filterwarnings('ignore')\n",
    "\n",
    "#import museum data sourced from Kaggle\n",
    "\n",
    "artists = pd.read_csv(\"artists.csv\")\n",
    "artworks = pd.read_csv(\"artworks.csv\")"
   ]
  },
  {
   "cell_type": "markdown",
   "metadata": {},
   "source": [
    "I will preview and inspect the `artists` dataset:"
   ]
  },
  {
   "cell_type": "code",
   "execution_count": 91,
   "metadata": {},
   "outputs": [
    {
     "data": {
      "text/html": [
       "<div>\n",
       "<style scoped>\n",
       "    .dataframe tbody tr th:only-of-type {\n",
       "        vertical-align: middle;\n",
       "    }\n",
       "\n",
       "    .dataframe tbody tr th {\n",
       "        vertical-align: top;\n",
       "    }\n",
       "\n",
       "    .dataframe thead th {\n",
       "        text-align: right;\n",
       "    }\n",
       "</style>\n",
       "<table border=\"1\" class=\"dataframe\">\n",
       "  <thead>\n",
       "    <tr style=\"text-align: right;\">\n",
       "      <th></th>\n",
       "      <th>Artist ID</th>\n",
       "      <th>Name</th>\n",
       "      <th>Nationality</th>\n",
       "      <th>Gender</th>\n",
       "      <th>Birth Year</th>\n",
       "      <th>Death Year</th>\n",
       "    </tr>\n",
       "  </thead>\n",
       "  <tbody>\n",
       "    <tr>\n",
       "      <th>0</th>\n",
       "      <td>1</td>\n",
       "      <td>Robert Arneson</td>\n",
       "      <td>American</td>\n",
       "      <td>Male</td>\n",
       "      <td>1930.0</td>\n",
       "      <td>1992.0</td>\n",
       "    </tr>\n",
       "    <tr>\n",
       "      <th>1</th>\n",
       "      <td>2</td>\n",
       "      <td>Doroteo Arnaiz</td>\n",
       "      <td>Spanish</td>\n",
       "      <td>Male</td>\n",
       "      <td>1936.0</td>\n",
       "      <td>NaN</td>\n",
       "    </tr>\n",
       "    <tr>\n",
       "      <th>2</th>\n",
       "      <td>3</td>\n",
       "      <td>Bill Arnold</td>\n",
       "      <td>American</td>\n",
       "      <td>Male</td>\n",
       "      <td>1941.0</td>\n",
       "      <td>NaN</td>\n",
       "    </tr>\n",
       "    <tr>\n",
       "      <th>3</th>\n",
       "      <td>4</td>\n",
       "      <td>Charles Arnoldi</td>\n",
       "      <td>American</td>\n",
       "      <td>Male</td>\n",
       "      <td>1946.0</td>\n",
       "      <td>NaN</td>\n",
       "    </tr>\n",
       "    <tr>\n",
       "      <th>4</th>\n",
       "      <td>5</td>\n",
       "      <td>Per Arnoldi</td>\n",
       "      <td>Danish</td>\n",
       "      <td>Male</td>\n",
       "      <td>1941.0</td>\n",
       "      <td>NaN</td>\n",
       "    </tr>\n",
       "    <tr>\n",
       "      <th>...</th>\n",
       "      <td>...</td>\n",
       "      <td>...</td>\n",
       "      <td>...</td>\n",
       "      <td>...</td>\n",
       "      <td>...</td>\n",
       "      <td>...</td>\n",
       "    </tr>\n",
       "    <tr>\n",
       "      <th>15086</th>\n",
       "      <td>67452</td>\n",
       "      <td>Liu Jianhua</td>\n",
       "      <td>Chinese</td>\n",
       "      <td>Male</td>\n",
       "      <td>1962.0</td>\n",
       "      <td>NaN</td>\n",
       "    </tr>\n",
       "    <tr>\n",
       "      <th>15087</th>\n",
       "      <td>67453</td>\n",
       "      <td>Leng Lin</td>\n",
       "      <td>Chinese</td>\n",
       "      <td>Male</td>\n",
       "      <td>1965.0</td>\n",
       "      <td>NaN</td>\n",
       "    </tr>\n",
       "    <tr>\n",
       "      <th>15088</th>\n",
       "      <td>67652</td>\n",
       "      <td>Ellie Nagler</td>\n",
       "      <td>NaN</td>\n",
       "      <td>NaN</td>\n",
       "      <td>NaN</td>\n",
       "      <td>NaN</td>\n",
       "    </tr>\n",
       "    <tr>\n",
       "      <th>15089</th>\n",
       "      <td>67694</td>\n",
       "      <td>Glenn Williams</td>\n",
       "      <td>NaN</td>\n",
       "      <td>Male</td>\n",
       "      <td>NaN</td>\n",
       "      <td>NaN</td>\n",
       "    </tr>\n",
       "    <tr>\n",
       "      <th>15090</th>\n",
       "      <td>67695</td>\n",
       "      <td>Ely Ramen</td>\n",
       "      <td>NaN</td>\n",
       "      <td>NaN</td>\n",
       "      <td>NaN</td>\n",
       "      <td>NaN</td>\n",
       "    </tr>\n",
       "  </tbody>\n",
       "</table>\n",
       "<p>15091 rows × 6 columns</p>\n",
       "</div>"
      ],
      "text/plain": [
       "       Artist ID             Name Nationality Gender  Birth Year  Death Year\n",
       "0              1   Robert Arneson    American   Male      1930.0      1992.0\n",
       "1              2   Doroteo Arnaiz     Spanish   Male      1936.0         NaN\n",
       "2              3      Bill Arnold    American   Male      1941.0         NaN\n",
       "3              4  Charles Arnoldi    American   Male      1946.0         NaN\n",
       "4              5      Per Arnoldi      Danish   Male      1941.0         NaN\n",
       "...          ...              ...         ...    ...         ...         ...\n",
       "15086      67452      Liu Jianhua     Chinese   Male      1962.0         NaN\n",
       "15087      67453         Leng Lin     Chinese   Male      1965.0         NaN\n",
       "15088      67652     Ellie Nagler         NaN    NaN         NaN         NaN\n",
       "15089      67694   Glenn Williams         NaN   Male         NaN         NaN\n",
       "15090      67695        Ely Ramen         NaN    NaN         NaN         NaN\n",
       "\n",
       "[15091 rows x 6 columns]"
      ]
     },
     "metadata": {},
     "output_type": "display_data"
    }
   ],
   "source": [
    "# quick look of dataset\n",
    "\n",
    "display(artists)"
   ]
  },
  {
   "cell_type": "code",
   "execution_count": 726,
   "metadata": {},
   "outputs": [
    {
     "data": {
      "text/plain": [
       "(15091, 6)"
      ]
     },
     "execution_count": 726,
     "metadata": {},
     "output_type": "execute_result"
    }
   ],
   "source": [
    "# it is confirmed that there are 15,091 records and 6 columns\n",
    "\n",
    "artists.shape"
   ]
  },
  {
   "cell_type": "code",
   "execution_count": 82,
   "metadata": {},
   "outputs": [
    {
     "name": "stdout",
     "output_type": "stream",
     "text": [
      "<class 'pandas.core.frame.DataFrame'>\n",
      "RangeIndex: 15091 entries, 0 to 15090\n",
      "Data columns (total 6 columns):\n",
      " #   Column       Non-Null Count  Dtype  \n",
      "---  ------       --------------  -----  \n",
      " 0   Artist ID    15091 non-null  int64  \n",
      " 1   Name         15091 non-null  object \n",
      " 2   Nationality  12603 non-null  object \n",
      " 3   Gender       12019 non-null  object \n",
      " 4   Birth Year   11237 non-null  float64\n",
      " 5   Death Year   4579 non-null   float64\n",
      "dtypes: float64(2), int64(1), object(3)\n",
      "memory usage: 707.5+ KB\n"
     ]
    }
   ],
   "source": [
    "# i used the info() method to get additional information about the artists dataset \n",
    "# inlcuding datatype of the different columns\n",
    "\n",
    "artists.info()\n",
    "\n",
    "# here you can see how many missing values exist in each column, especially Death Year"
   ]
  },
  {
   "cell_type": "markdown",
   "metadata": {},
   "source": [
    "I will also preview and inspect the `artists` dataset:"
   ]
  },
  {
   "cell_type": "code",
   "execution_count": 219,
   "metadata": {},
   "outputs": [
    {
     "data": {
      "text/html": [
       "<div>\n",
       "<style scoped>\n",
       "    .dataframe tbody tr th:only-of-type {\n",
       "        vertical-align: middle;\n",
       "    }\n",
       "\n",
       "    .dataframe tbody tr th {\n",
       "        vertical-align: top;\n",
       "    }\n",
       "\n",
       "    .dataframe thead th {\n",
       "        text-align: right;\n",
       "    }\n",
       "</style>\n",
       "<table border=\"1\" class=\"dataframe\">\n",
       "  <thead>\n",
       "    <tr style=\"text-align: right;\">\n",
       "      <th></th>\n",
       "      <th>Artwork ID</th>\n",
       "      <th>Title</th>\n",
       "      <th>Artist ID</th>\n",
       "      <th>Name</th>\n",
       "      <th>Date</th>\n",
       "      <th>Medium</th>\n",
       "      <th>Dimensions</th>\n",
       "      <th>Acquisition Date</th>\n",
       "      <th>Credit</th>\n",
       "      <th>Catalogue</th>\n",
       "      <th>...</th>\n",
       "      <th>Classification</th>\n",
       "      <th>Object Number</th>\n",
       "      <th>Diameter (cm)</th>\n",
       "      <th>Circumference (cm)</th>\n",
       "      <th>Height (cm)</th>\n",
       "      <th>Length (cm)</th>\n",
       "      <th>Width (cm)</th>\n",
       "      <th>Depth (cm)</th>\n",
       "      <th>Weight (kg)</th>\n",
       "      <th>Duration (s)</th>\n",
       "    </tr>\n",
       "  </thead>\n",
       "  <tbody>\n",
       "    <tr>\n",
       "      <th>0</th>\n",
       "      <td>2</td>\n",
       "      <td>Ferdinandsbrücke Project, Vienna, Austria, Ele...</td>\n",
       "      <td>6210</td>\n",
       "      <td>Otto Wagner</td>\n",
       "      <td>1896</td>\n",
       "      <td>Ink and cut-and-pasted painted pages on paper</td>\n",
       "      <td>19 1/8 x 66 1/2\" (48.6 x 168.9 cm)</td>\n",
       "      <td>1996-04-09</td>\n",
       "      <td>Fractional and promised gift of Jo Carole and ...</td>\n",
       "      <td>Y</td>\n",
       "      <td>...</td>\n",
       "      <td>Architecture</td>\n",
       "      <td>885.1996</td>\n",
       "      <td>NaN</td>\n",
       "      <td>NaN</td>\n",
       "      <td>48.6000</td>\n",
       "      <td>NaN</td>\n",
       "      <td>168.9000</td>\n",
       "      <td>NaN</td>\n",
       "      <td>NaN</td>\n",
       "      <td>NaN</td>\n",
       "    </tr>\n",
       "    <tr>\n",
       "      <th>1</th>\n",
       "      <td>3</td>\n",
       "      <td>City of Music, National Superior Conservatory ...</td>\n",
       "      <td>7470</td>\n",
       "      <td>Christian de Portzamparc</td>\n",
       "      <td>1987</td>\n",
       "      <td>Paint and colored pencil on print</td>\n",
       "      <td>16 x 11 3/4\" (40.6 x 29.8 cm)</td>\n",
       "      <td>1995-01-17</td>\n",
       "      <td>Gift of the architect in honor of Lily Auchinc...</td>\n",
       "      <td>Y</td>\n",
       "      <td>...</td>\n",
       "      <td>Architecture</td>\n",
       "      <td>1.1995</td>\n",
       "      <td>NaN</td>\n",
       "      <td>NaN</td>\n",
       "      <td>40.6401</td>\n",
       "      <td>NaN</td>\n",
       "      <td>29.8451</td>\n",
       "      <td>NaN</td>\n",
       "      <td>NaN</td>\n",
       "      <td>NaN</td>\n",
       "    </tr>\n",
       "    <tr>\n",
       "      <th>2</th>\n",
       "      <td>4</td>\n",
       "      <td>Villa near Vienna Project, Outside Vienna, Aus...</td>\n",
       "      <td>7605</td>\n",
       "      <td>Emil Hoppe</td>\n",
       "      <td>1903</td>\n",
       "      <td>Graphite, pen, color pencil, ink, and gouache ...</td>\n",
       "      <td>13 1/2 x 12 1/2\" (34.3 x 31.8 cm)</td>\n",
       "      <td>1997-01-15</td>\n",
       "      <td>Gift of Jo Carole and Ronald S. Lauder</td>\n",
       "      <td>Y</td>\n",
       "      <td>...</td>\n",
       "      <td>Architecture</td>\n",
       "      <td>1.1997</td>\n",
       "      <td>NaN</td>\n",
       "      <td>NaN</td>\n",
       "      <td>34.3000</td>\n",
       "      <td>NaN</td>\n",
       "      <td>31.8000</td>\n",
       "      <td>NaN</td>\n",
       "      <td>NaN</td>\n",
       "      <td>NaN</td>\n",
       "    </tr>\n",
       "    <tr>\n",
       "      <th>3</th>\n",
       "      <td>5</td>\n",
       "      <td>The Manhattan Transcripts Project, New York, N...</td>\n",
       "      <td>7056</td>\n",
       "      <td>Bernard Tschumi</td>\n",
       "      <td>1980</td>\n",
       "      <td>Photographic reproduction with colored synthet...</td>\n",
       "      <td>20 x 20\" (50.8 x 50.8 cm)</td>\n",
       "      <td>1995-01-17</td>\n",
       "      <td>Purchase and partial gift of the architect in ...</td>\n",
       "      <td>Y</td>\n",
       "      <td>...</td>\n",
       "      <td>Architecture</td>\n",
       "      <td>2.1995</td>\n",
       "      <td>NaN</td>\n",
       "      <td>NaN</td>\n",
       "      <td>50.8000</td>\n",
       "      <td>NaN</td>\n",
       "      <td>50.8000</td>\n",
       "      <td>NaN</td>\n",
       "      <td>NaN</td>\n",
       "      <td>NaN</td>\n",
       "    </tr>\n",
       "    <tr>\n",
       "      <th>4</th>\n",
       "      <td>6</td>\n",
       "      <td>Villa, project, outside Vienna, Austria, Exter...</td>\n",
       "      <td>7605</td>\n",
       "      <td>Emil Hoppe</td>\n",
       "      <td>1903</td>\n",
       "      <td>Graphite, color pencil, ink, and gouache on tr...</td>\n",
       "      <td>15 1/8 x 7 1/2\" (38.4 x 19.1 cm)</td>\n",
       "      <td>1997-01-15</td>\n",
       "      <td>Gift of Jo Carole and Ronald S. Lauder</td>\n",
       "      <td>Y</td>\n",
       "      <td>...</td>\n",
       "      <td>Architecture</td>\n",
       "      <td>2.1997</td>\n",
       "      <td>NaN</td>\n",
       "      <td>NaN</td>\n",
       "      <td>38.4000</td>\n",
       "      <td>NaN</td>\n",
       "      <td>19.1000</td>\n",
       "      <td>NaN</td>\n",
       "      <td>NaN</td>\n",
       "      <td>NaN</td>\n",
       "    </tr>\n",
       "  </tbody>\n",
       "</table>\n",
       "<p>5 rows × 21 columns</p>\n",
       "</div>"
      ],
      "text/plain": [
       "   Artwork ID                                              Title Artist ID  \\\n",
       "0           2  Ferdinandsbrücke Project, Vienna, Austria, Ele...      6210   \n",
       "1           3  City of Music, National Superior Conservatory ...      7470   \n",
       "2           4  Villa near Vienna Project, Outside Vienna, Aus...      7605   \n",
       "3           5  The Manhattan Transcripts Project, New York, N...      7056   \n",
       "4           6  Villa, project, outside Vienna, Austria, Exter...      7605   \n",
       "\n",
       "                       Name  Date  \\\n",
       "0               Otto Wagner  1896   \n",
       "1  Christian de Portzamparc  1987   \n",
       "2                Emil Hoppe  1903   \n",
       "3           Bernard Tschumi  1980   \n",
       "4                Emil Hoppe  1903   \n",
       "\n",
       "                                              Medium  \\\n",
       "0      Ink and cut-and-pasted painted pages on paper   \n",
       "1                  Paint and colored pencil on print   \n",
       "2  Graphite, pen, color pencil, ink, and gouache ...   \n",
       "3  Photographic reproduction with colored synthet...   \n",
       "4  Graphite, color pencil, ink, and gouache on tr...   \n",
       "\n",
       "                           Dimensions Acquisition Date  \\\n",
       "0  19 1/8 x 66 1/2\" (48.6 x 168.9 cm)       1996-04-09   \n",
       "1       16 x 11 3/4\" (40.6 x 29.8 cm)       1995-01-17   \n",
       "2   13 1/2 x 12 1/2\" (34.3 x 31.8 cm)       1997-01-15   \n",
       "3           20 x 20\" (50.8 x 50.8 cm)       1995-01-17   \n",
       "4    15 1/8 x 7 1/2\" (38.4 x 19.1 cm)       1997-01-15   \n",
       "\n",
       "                                              Credit Catalogue  ...  \\\n",
       "0  Fractional and promised gift of Jo Carole and ...         Y  ...   \n",
       "1  Gift of the architect in honor of Lily Auchinc...         Y  ...   \n",
       "2             Gift of Jo Carole and Ronald S. Lauder         Y  ...   \n",
       "3  Purchase and partial gift of the architect in ...         Y  ...   \n",
       "4             Gift of Jo Carole and Ronald S. Lauder         Y  ...   \n",
       "\n",
       "  Classification Object Number Diameter (cm)  Circumference (cm)  Height (cm)  \\\n",
       "0   Architecture      885.1996           NaN                 NaN      48.6000   \n",
       "1   Architecture        1.1995           NaN                 NaN      40.6401   \n",
       "2   Architecture        1.1997           NaN                 NaN      34.3000   \n",
       "3   Architecture        2.1995           NaN                 NaN      50.8000   \n",
       "4   Architecture        2.1997           NaN                 NaN      38.4000   \n",
       "\n",
       "   Length (cm)  Width (cm)  Depth (cm)  Weight (kg)  Duration (s)  \n",
       "0          NaN    168.9000         NaN          NaN           NaN  \n",
       "1          NaN     29.8451         NaN          NaN           NaN  \n",
       "2          NaN     31.8000         NaN          NaN           NaN  \n",
       "3          NaN     50.8000         NaN          NaN           NaN  \n",
       "4          NaN     19.1000         NaN          NaN           NaN  \n",
       "\n",
       "[5 rows x 21 columns]"
      ]
     },
     "execution_count": 219,
     "metadata": {},
     "output_type": "execute_result"
    }
   ],
   "source": [
    "# quick look of dataset\n",
    "\n",
    "artworks.head()"
   ]
  },
  {
   "cell_type": "code",
   "execution_count": 220,
   "metadata": {},
   "outputs": [
    {
     "data": {
      "text/plain": [
       "(130262, 21)"
      ]
     },
     "execution_count": 220,
     "metadata": {},
     "output_type": "execute_result"
    }
   ],
   "source": [
    "# it is confirmed that there are 130,262 records and 21 columns\n",
    "\n",
    "artworks.shape"
   ]
  },
  {
   "cell_type": "code",
   "execution_count": 87,
   "metadata": {},
   "outputs": [
    {
     "name": "stdout",
     "output_type": "stream",
     "text": [
      "<class 'pandas.core.frame.DataFrame'>\n",
      "RangeIndex: 130262 entries, 0 to 130261\n",
      "Data columns (total 21 columns):\n",
      " #   Column              Non-Null Count   Dtype  \n",
      "---  ------              --------------   -----  \n",
      " 0   Artwork ID          130262 non-null  int64  \n",
      " 1   Title               130210 non-null  object \n",
      " 2   Artist ID           128802 non-null  object \n",
      " 3   Name                128802 non-null  object \n",
      " 4   Date                127950 non-null  object \n",
      " 5   Medium              118343 non-null  object \n",
      " 6   Dimensions          118799 non-null  object \n",
      " 7   Acquisition Date    124799 non-null  object \n",
      " 8   Credit              127192 non-null  object \n",
      " 9   Catalogue           130262 non-null  object \n",
      " 10  Department          130262 non-null  object \n",
      " 11  Classification      130262 non-null  object \n",
      " 12  Object Number       130262 non-null  object \n",
      " 13  Diameter (cm)       1399 non-null    float64\n",
      " 14  Circumference (cm)  10 non-null      float64\n",
      " 15  Height (cm)         111893 non-null  float64\n",
      " 16  Length (cm)         736 non-null     float64\n",
      " 17  Width (cm)          111003 non-null  float64\n",
      " 18  Depth (cm)          11443 non-null   float64\n",
      " 19  Weight (kg)         298 non-null     float64\n",
      " 20  Duration (s)        3084 non-null    float64\n",
      "dtypes: float64(8), int64(1), object(12)\n",
      "memory usage: 20.9+ MB\n"
     ]
    }
   ],
   "source": [
    "# quick look at the artworks info\n",
    "\n",
    "artworks.info()\n",
    "# there are some artworks that do not have a title or an Artist ID"
   ]
  },
  {
   "cell_type": "markdown",
   "metadata": {},
   "source": [
    "## 1. Which artist in this data set lived the longest?\n",
    "---\n",
    "Before I answer the question and start the analysis process, I will clean the dataset in dataframes to prevent any errors.<br>\n",
    "Because there are many null values in either the `Birth Year` or `Death Year`, I will drop all records that are null in both `Birth Year` AND `Death Year`. <br>\n",
    "I will also drop null values for only `Birth Year` because there be some records that have a null `Birth Year`, but have a `Death Year`.<br>"
   ]
  },
  {
   "cell_type": "code",
   "execution_count": 140,
   "metadata": {},
   "outputs": [
    {
     "name": "stdout",
     "output_type": "stream",
     "text": [
      "       Artist ID             Name Nationality  Gender  Birth Year  Death Year\n",
      "0              1   Robert Arneson    American    Male      1930.0      1992.0\n",
      "1              2   Doroteo Arnaiz     Spanish    Male      1936.0         NaN\n",
      "2              3      Bill Arnold    American    Male      1941.0         NaN\n",
      "3              4  Charles Arnoldi    American    Male      1946.0         NaN\n",
      "4              5      Per Arnoldi      Danish    Male      1941.0         NaN\n",
      "...          ...              ...         ...     ...         ...         ...\n",
      "15082      67379          N. Dash    American  Female      1980.0         NaN\n",
      "15084      67437  Sebastian Black    American    Male      1985.0         NaN\n",
      "15085      67451          Xiao Yu     Chinese    Male      1965.0         NaN\n",
      "15086      67452      Liu Jianhua     Chinese    Male      1962.0         NaN\n",
      "15087      67453         Leng Lin     Chinese    Male      1965.0         NaN\n",
      "\n",
      "[11250 rows x 6 columns]\n"
     ]
    }
   ],
   "source": [
    "# drop all rows that have NaN values for the Birth Year AND Death Year columns\n",
    "\n",
    "nonull_artists = artists.dropna(subset=['Birth Year','Death Year'], how='all')\n",
    "print(nonull_artists)\n",
    "\n",
    "#the number of rows changed from 15,091 to 11,250"
   ]
  },
  {
   "cell_type": "code",
   "execution_count": 139,
   "metadata": {},
   "outputs": [
    {
     "name": "stdout",
     "output_type": "stream",
     "text": [
      "       Artist ID             Name Nationality  Gender  Birth Year  Death Year\n",
      "0              1   Robert Arneson    American    Male      1930.0      1992.0\n",
      "1              2   Doroteo Arnaiz     Spanish    Male      1936.0         NaN\n",
      "2              3      Bill Arnold    American    Male      1941.0         NaN\n",
      "3              4  Charles Arnoldi    American    Male      1946.0         NaN\n",
      "4              5      Per Arnoldi      Danish    Male      1941.0         NaN\n",
      "...          ...              ...         ...     ...         ...         ...\n",
      "15082      67379          N. Dash    American  Female      1980.0         NaN\n",
      "15084      67437  Sebastian Black    American    Male      1985.0         NaN\n",
      "15085      67451          Xiao Yu     Chinese    Male      1965.0         NaN\n",
      "15086      67452      Liu Jianhua     Chinese    Male      1962.0         NaN\n",
      "15087      67453         Leng Lin     Chinese    Male      1965.0         NaN\n",
      "\n",
      "[11237 rows x 6 columns]\n"
     ]
    }
   ],
   "source": [
    "# here i will drop nulls in Birth Year\n",
    "\n",
    "final_artists = nonull_artists.dropna(subset=['Birth Year'], how='all')\n",
    "print(final_artists)\n",
    "\n",
    "# 11,237 rows matches the number of non-null that Birth Year has\n",
    "# notice how this step changed it from 11,250 rows to 11,237"
   ]
  },
  {
   "cell_type": "markdown",
   "metadata": {},
   "source": [
    "I am assuming `Death Year` with null values means that the artist is still alive, so I will convert NaN to 2021 just to calculate their current age. <br>"
   ]
  },
  {
   "cell_type": "code",
   "execution_count": 141,
   "metadata": {},
   "outputs": [
    {
     "name": "stdout",
     "output_type": "stream",
     "text": [
      "<class 'pandas.core.frame.DataFrame'>\n",
      "Int64Index: 11237 entries, 0 to 15087\n",
      "Data columns (total 6 columns):\n",
      " #   Column       Non-Null Count  Dtype  \n",
      "---  ------       --------------  -----  \n",
      " 0   Artist ID    11237 non-null  int64  \n",
      " 1   Name         11237 non-null  object \n",
      " 2   Nationality  10951 non-null  object \n",
      " 3   Gender       10377 non-null  object \n",
      " 4   Birth Year   11237 non-null  float64\n",
      " 5   Death Year   11237 non-null  float64\n",
      "dtypes: float64(2), int64(1), object(3)\n",
      "memory usage: 614.5+ KB\n"
     ]
    }
   ],
   "source": [
    "# now i want to fill in null values for Death Year with '2021' so that I can calculate the current age of the artist\n",
    "\n",
    "final_artists['Death Year'].fillna(2021, inplace = True)\n",
    "\n",
    "final_artists.info()\n",
    "# now both Years match 11,237 rows"
   ]
  },
  {
   "cell_type": "code",
   "execution_count": 142,
   "metadata": {},
   "outputs": [
    {
     "data": {
      "text/plain": [
       "Artist ID       int64\n",
       "Name           object\n",
       "Nationality    object\n",
       "Gender         object\n",
       "Birth Year      int64\n",
       "Death Year      int64\n",
       "dtype: object"
      ]
     },
     "metadata": {},
     "output_type": "display_data"
    }
   ],
   "source": [
    "# i want to change the datatype for Birth Year and Death Year from float to int\n",
    "# i'm not allowed to change datatype while there are null values, so that is also why I removed the null values\n",
    "\n",
    "final_artists['Birth Year'] = final_artists['Birth Year'].astype(int)\n",
    "final_artists['Death Year'] = final_artists['Death Year'].astype(int)\n",
    "\n",
    "display(final_artists.dtypes)\n",
    "# Birth Year and Death Year are now int datatype"
   ]
  },
  {
   "cell_type": "code",
   "execution_count": 146,
   "metadata": {},
   "outputs": [
    {
     "data": {
      "text/html": [
       "<div>\n",
       "<style scoped>\n",
       "    .dataframe tbody tr th:only-of-type {\n",
       "        vertical-align: middle;\n",
       "    }\n",
       "\n",
       "    .dataframe tbody tr th {\n",
       "        vertical-align: top;\n",
       "    }\n",
       "\n",
       "    .dataframe thead th {\n",
       "        text-align: right;\n",
       "    }\n",
       "</style>\n",
       "<table border=\"1\" class=\"dataframe\">\n",
       "  <thead>\n",
       "    <tr style=\"text-align: right;\">\n",
       "      <th></th>\n",
       "      <th>Artist ID</th>\n",
       "      <th>Name</th>\n",
       "      <th>Nationality</th>\n",
       "      <th>Gender</th>\n",
       "      <th>Birth Year</th>\n",
       "      <th>Death Year</th>\n",
       "      <th>Age</th>\n",
       "    </tr>\n",
       "  </thead>\n",
       "  <tbody>\n",
       "    <tr>\n",
       "      <th>0</th>\n",
       "      <td>1</td>\n",
       "      <td>Robert Arneson</td>\n",
       "      <td>American</td>\n",
       "      <td>Male</td>\n",
       "      <td>1930</td>\n",
       "      <td>1992</td>\n",
       "      <td>62</td>\n",
       "    </tr>\n",
       "    <tr>\n",
       "      <th>1</th>\n",
       "      <td>2</td>\n",
       "      <td>Doroteo Arnaiz</td>\n",
       "      <td>Spanish</td>\n",
       "      <td>Male</td>\n",
       "      <td>1936</td>\n",
       "      <td>2021</td>\n",
       "      <td>85</td>\n",
       "    </tr>\n",
       "    <tr>\n",
       "      <th>2</th>\n",
       "      <td>3</td>\n",
       "      <td>Bill Arnold</td>\n",
       "      <td>American</td>\n",
       "      <td>Male</td>\n",
       "      <td>1941</td>\n",
       "      <td>2021</td>\n",
       "      <td>80</td>\n",
       "    </tr>\n",
       "    <tr>\n",
       "      <th>3</th>\n",
       "      <td>4</td>\n",
       "      <td>Charles Arnoldi</td>\n",
       "      <td>American</td>\n",
       "      <td>Male</td>\n",
       "      <td>1946</td>\n",
       "      <td>2021</td>\n",
       "      <td>75</td>\n",
       "    </tr>\n",
       "    <tr>\n",
       "      <th>4</th>\n",
       "      <td>5</td>\n",
       "      <td>Per Arnoldi</td>\n",
       "      <td>Danish</td>\n",
       "      <td>Male</td>\n",
       "      <td>1941</td>\n",
       "      <td>2021</td>\n",
       "      <td>80</td>\n",
       "    </tr>\n",
       "    <tr>\n",
       "      <th>...</th>\n",
       "      <td>...</td>\n",
       "      <td>...</td>\n",
       "      <td>...</td>\n",
       "      <td>...</td>\n",
       "      <td>...</td>\n",
       "      <td>...</td>\n",
       "      <td>...</td>\n",
       "    </tr>\n",
       "    <tr>\n",
       "      <th>15082</th>\n",
       "      <td>67379</td>\n",
       "      <td>N. Dash</td>\n",
       "      <td>American</td>\n",
       "      <td>Female</td>\n",
       "      <td>1980</td>\n",
       "      <td>2021</td>\n",
       "      <td>41</td>\n",
       "    </tr>\n",
       "    <tr>\n",
       "      <th>15084</th>\n",
       "      <td>67437</td>\n",
       "      <td>Sebastian Black</td>\n",
       "      <td>American</td>\n",
       "      <td>Male</td>\n",
       "      <td>1985</td>\n",
       "      <td>2021</td>\n",
       "      <td>36</td>\n",
       "    </tr>\n",
       "    <tr>\n",
       "      <th>15085</th>\n",
       "      <td>67451</td>\n",
       "      <td>Xiao Yu</td>\n",
       "      <td>Chinese</td>\n",
       "      <td>Male</td>\n",
       "      <td>1965</td>\n",
       "      <td>2021</td>\n",
       "      <td>56</td>\n",
       "    </tr>\n",
       "    <tr>\n",
       "      <th>15086</th>\n",
       "      <td>67452</td>\n",
       "      <td>Liu Jianhua</td>\n",
       "      <td>Chinese</td>\n",
       "      <td>Male</td>\n",
       "      <td>1962</td>\n",
       "      <td>2021</td>\n",
       "      <td>59</td>\n",
       "    </tr>\n",
       "    <tr>\n",
       "      <th>15087</th>\n",
       "      <td>67453</td>\n",
       "      <td>Leng Lin</td>\n",
       "      <td>Chinese</td>\n",
       "      <td>Male</td>\n",
       "      <td>1965</td>\n",
       "      <td>2021</td>\n",
       "      <td>56</td>\n",
       "    </tr>\n",
       "  </tbody>\n",
       "</table>\n",
       "<p>11237 rows × 7 columns</p>\n",
       "</div>"
      ],
      "text/plain": [
       "       Artist ID             Name Nationality  Gender  Birth Year  Death Year  \\\n",
       "0              1   Robert Arneson    American    Male        1930        1992   \n",
       "1              2   Doroteo Arnaiz     Spanish    Male        1936        2021   \n",
       "2              3      Bill Arnold    American    Male        1941        2021   \n",
       "3              4  Charles Arnoldi    American    Male        1946        2021   \n",
       "4              5      Per Arnoldi      Danish    Male        1941        2021   \n",
       "...          ...              ...         ...     ...         ...         ...   \n",
       "15082      67379          N. Dash    American  Female        1980        2021   \n",
       "15084      67437  Sebastian Black    American    Male        1985        2021   \n",
       "15085      67451          Xiao Yu     Chinese    Male        1965        2021   \n",
       "15086      67452      Liu Jianhua     Chinese    Male        1962        2021   \n",
       "15087      67453         Leng Lin     Chinese    Male        1965        2021   \n",
       "\n",
       "       Age  \n",
       "0       62  \n",
       "1       85  \n",
       "2       80  \n",
       "3       75  \n",
       "4       80  \n",
       "...    ...  \n",
       "15082   41  \n",
       "15084   36  \n",
       "15085   56  \n",
       "15086   59  \n",
       "15087   56  \n",
       "\n",
       "[11237 rows x 7 columns]"
      ]
     },
     "metadata": {},
     "output_type": "display_data"
    }
   ],
   "source": [
    "# i determined the age the artist lived until by subtracting the 'Death Year' by the 'Birth Year'\n",
    "\n",
    "# this will add a new column to the dataframe: the calculated age of the artists\n",
    "final_artists['Age'] = final_artists['Death Year'] - final_artists['Birth Year']\n",
    "\n",
    "display(final_artists)"
   ]
  },
  {
   "cell_type": "code",
   "execution_count": 212,
   "metadata": {},
   "outputs": [
    {
     "data": {
      "text/plain": [
       "2312    290\n",
       "8086    256\n",
       "4720    220\n",
       "8073    219\n",
       "8047    213\n",
       "Name: Age, dtype: int64"
      ]
     },
     "execution_count": 212,
     "metadata": {},
     "output_type": "execute_result"
    }
   ],
   "source": [
    "# i will do a quick check to see the top artist ages\n",
    "# used nlargest method to grab the top 5 ages\n",
    "\n",
    "final_artists['Age'].nlargest(5)\n",
    "\n",
    "# I noticed that there are ages of 200+ \n",
    "# That is impossible. So what went wrong??"
   ]
  },
  {
   "cell_type": "code",
   "execution_count": 198,
   "metadata": {},
   "outputs": [
    {
     "data": {
      "text/plain": [
       "2312"
      ]
     },
     "metadata": {},
     "output_type": "display_data"
    },
    {
     "data": {
      "text/html": [
       "<div>\n",
       "<style scoped>\n",
       "    .dataframe tbody tr th:only-of-type {\n",
       "        vertical-align: middle;\n",
       "    }\n",
       "\n",
       "    .dataframe tbody tr th {\n",
       "        vertical-align: top;\n",
       "    }\n",
       "\n",
       "    .dataframe thead th {\n",
       "        text-align: right;\n",
       "    }\n",
       "</style>\n",
       "<table border=\"1\" class=\"dataframe\">\n",
       "  <thead>\n",
       "    <tr style=\"text-align: right;\">\n",
       "      <th></th>\n",
       "      <th>Artist ID</th>\n",
       "      <th>Name</th>\n",
       "      <th>Nationality</th>\n",
       "      <th>Gender</th>\n",
       "      <th>Birth Year</th>\n",
       "      <th>Death Year</th>\n",
       "      <th>Age</th>\n",
       "    </tr>\n",
       "  </thead>\n",
       "  <tbody>\n",
       "    <tr>\n",
       "      <th>2312</th>\n",
       "      <td>2589</td>\n",
       "      <td>J.A. Henckels, Solingen, Germany</td>\n",
       "      <td>NaN</td>\n",
       "      <td>NaN</td>\n",
       "      <td>1731</td>\n",
       "      <td>2021</td>\n",
       "      <td>290</td>\n",
       "    </tr>\n",
       "  </tbody>\n",
       "</table>\n",
       "</div>"
      ],
      "text/plain": [
       "      Artist ID                              Name Nationality Gender  \\\n",
       "2312       2589  J.A. Henckels, Solingen, Germany         NaN    NaN   \n",
       "\n",
       "      Birth Year  Death Year  Age  \n",
       "2312        1731        2021  290  "
      ]
     },
     "metadata": {},
     "output_type": "display_data"
    }
   ],
   "source": [
    "# I will pull the record with the max Age\n",
    "\n",
    "max_index = final_artists['Age'].idxmax()\n",
    "display(max_index)\n",
    "\n",
    "max_row = final_artists.loc[[max_index]]\n",
    "display(max_row)\n",
    "\n",
    "# Okay, now I realized a big mistake..."
   ]
  },
  {
   "cell_type": "markdown",
   "metadata": {},
   "source": [
    "Okay, now I realized a big mistake: <br>\n",
    "\n",
    "I assumed that a null `Death Year` means that the artist is still alive. <br>\n",
    "Now I am aware that the `Birth Year` could be recorded and not the `Death Year`, \n",
    "even though that artist is obviously dead. <br>\n",
    "<br>\n",
    "Artist J.A. Henckels was born in 1731 and orginally had a `Death Year` of null. <br>\n",
    "It is impossible for him to be 290 years old.\n",
    "<br>\n",
    "After reading the question again, I am reassured that it is asking for artists that lived the longest, meaning that they have already passed away. <br>\n",
    "So I need to have both `Birth Year` and `Death Year` filled.<br>\n",
    "This is an easy fix. I will leave my error logged and continue with my process."
   ]
  },
  {
   "cell_type": "code",
   "execution_count": 199,
   "metadata": {},
   "outputs": [
    {
     "name": "stdout",
     "output_type": "stream",
     "text": [
      "<class 'pandas.core.frame.DataFrame'>\n",
      "Int64Index: 4566 entries, 0 to 15079\n",
      "Data columns (total 6 columns):\n",
      " #   Column       Non-Null Count  Dtype  \n",
      "---  ------       --------------  -----  \n",
      " 0   Artist ID    4566 non-null   int64  \n",
      " 1   Name         4566 non-null   object \n",
      " 2   Nationality  4514 non-null   object \n",
      " 3   Gender       4462 non-null   object \n",
      " 4   Birth Year   4566 non-null   float64\n",
      " 5   Death Year   4566 non-null   float64\n",
      "dtypes: float64(2), int64(1), object(3)\n",
      "memory usage: 249.7+ KB\n"
     ]
    }
   ],
   "source": [
    "# instead of dropping records that have both years as null, \n",
    "# I will drop any record that have ANY null in either Birth Year or Death Year\n",
    "# since I made no permanent change to the original dataframe, I can easily create a new dataframe with my revisions \n",
    "\n",
    "revised_artists = artists.dropna(subset=['Birth Year','Death Year'])\n",
    "revised_artists.info()\n",
    "\n",
    "# notice how there are a lot less records\n",
    "# this means that out of the entire dataset, \n",
    "# there are only 4,566 artists that have proper year data recorded and are actually dead"
   ]
  },
  {
   "cell_type": "code",
   "execution_count": 200,
   "metadata": {},
   "outputs": [
    {
     "data": {
      "text/plain": [
       "Artist ID       int64\n",
       "Name           object\n",
       "Nationality    object\n",
       "Gender         object\n",
       "Birth Year      int64\n",
       "Death Year      int64\n",
       "dtype: object"
      ]
     },
     "metadata": {},
     "output_type": "display_data"
    }
   ],
   "source": [
    "# i repeated the step to change the datatype from float to int for this new dataframe\n",
    "\n",
    "revised_artists['Birth Year'] = revised_artists['Birth Year'].astype(int)\n",
    "revised_artists['Death Year'] = revised_artists['Death Year'].astype(int)\n",
    "\n",
    "display(revised_artists.dtypes)"
   ]
  },
  {
   "cell_type": "code",
   "execution_count": 201,
   "metadata": {},
   "outputs": [
    {
     "data": {
      "text/html": [
       "<div>\n",
       "<style scoped>\n",
       "    .dataframe tbody tr th:only-of-type {\n",
       "        vertical-align: middle;\n",
       "    }\n",
       "\n",
       "    .dataframe tbody tr th {\n",
       "        vertical-align: top;\n",
       "    }\n",
       "\n",
       "    .dataframe thead th {\n",
       "        text-align: right;\n",
       "    }\n",
       "</style>\n",
       "<table border=\"1\" class=\"dataframe\">\n",
       "  <thead>\n",
       "    <tr style=\"text-align: right;\">\n",
       "      <th></th>\n",
       "      <th>Artist ID</th>\n",
       "      <th>Name</th>\n",
       "      <th>Nationality</th>\n",
       "      <th>Gender</th>\n",
       "      <th>Birth Year</th>\n",
       "      <th>Death Year</th>\n",
       "      <th>Age</th>\n",
       "    </tr>\n",
       "  </thead>\n",
       "  <tbody>\n",
       "    <tr>\n",
       "      <th>0</th>\n",
       "      <td>1</td>\n",
       "      <td>Robert Arneson</td>\n",
       "      <td>American</td>\n",
       "      <td>Male</td>\n",
       "      <td>1930</td>\n",
       "      <td>1992</td>\n",
       "      <td>62</td>\n",
       "    </tr>\n",
       "    <tr>\n",
       "      <th>9</th>\n",
       "      <td>11</td>\n",
       "      <td>Jean (Hans) Arp</td>\n",
       "      <td>French</td>\n",
       "      <td>Male</td>\n",
       "      <td>1886</td>\n",
       "      <td>1966</td>\n",
       "      <td>80</td>\n",
       "    </tr>\n",
       "    <tr>\n",
       "      <th>11</th>\n",
       "      <td>13</td>\n",
       "      <td>J. Arrelano Fischer</td>\n",
       "      <td>Mexican</td>\n",
       "      <td>Male</td>\n",
       "      <td>1911</td>\n",
       "      <td>1995</td>\n",
       "      <td>84</td>\n",
       "    </tr>\n",
       "    <tr>\n",
       "      <th>12</th>\n",
       "      <td>15</td>\n",
       "      <td>Folke Arstrom</td>\n",
       "      <td>Swedish</td>\n",
       "      <td>Male</td>\n",
       "      <td>1907</td>\n",
       "      <td>1997</td>\n",
       "      <td>90</td>\n",
       "    </tr>\n",
       "    <tr>\n",
       "      <th>13</th>\n",
       "      <td>16</td>\n",
       "      <td>Cristobal Arteche</td>\n",
       "      <td>Spanish</td>\n",
       "      <td>Male</td>\n",
       "      <td>1900</td>\n",
       "      <td>1964</td>\n",
       "      <td>64</td>\n",
       "    </tr>\n",
       "    <tr>\n",
       "      <th>...</th>\n",
       "      <td>...</td>\n",
       "      <td>...</td>\n",
       "      <td>...</td>\n",
       "      <td>...</td>\n",
       "      <td>...</td>\n",
       "      <td>...</td>\n",
       "      <td>...</td>\n",
       "    </tr>\n",
       "    <tr>\n",
       "      <th>15035</th>\n",
       "      <td>67127</td>\n",
       "      <td>John Sex</td>\n",
       "      <td>American</td>\n",
       "      <td>NaN</td>\n",
       "      <td>1956</td>\n",
       "      <td>1990</td>\n",
       "      <td>34</td>\n",
       "    </tr>\n",
       "    <tr>\n",
       "      <th>15036</th>\n",
       "      <td>67128</td>\n",
       "      <td>Egidio Bonfante</td>\n",
       "      <td>Italian</td>\n",
       "      <td>Male</td>\n",
       "      <td>1922</td>\n",
       "      <td>2004</td>\n",
       "      <td>82</td>\n",
       "    </tr>\n",
       "    <tr>\n",
       "      <th>15072</th>\n",
       "      <td>67336</td>\n",
       "      <td>Cal Dalton</td>\n",
       "      <td>American</td>\n",
       "      <td>NaN</td>\n",
       "      <td>1908</td>\n",
       "      <td>1974</td>\n",
       "      <td>66</td>\n",
       "    </tr>\n",
       "    <tr>\n",
       "      <th>15073</th>\n",
       "      <td>67337</td>\n",
       "      <td>Cal Howard</td>\n",
       "      <td>American</td>\n",
       "      <td>NaN</td>\n",
       "      <td>1911</td>\n",
       "      <td>1993</td>\n",
       "      <td>82</td>\n",
       "    </tr>\n",
       "    <tr>\n",
       "      <th>15079</th>\n",
       "      <td>67350</td>\n",
       "      <td>Howard Guttenplan</td>\n",
       "      <td>American</td>\n",
       "      <td>NaN</td>\n",
       "      <td>1934</td>\n",
       "      <td>2015</td>\n",
       "      <td>81</td>\n",
       "    </tr>\n",
       "  </tbody>\n",
       "</table>\n",
       "<p>4566 rows × 7 columns</p>\n",
       "</div>"
      ],
      "text/plain": [
       "       Artist ID                 Name Nationality Gender  Birth Year  \\\n",
       "0              1       Robert Arneson    American   Male        1930   \n",
       "9             11      Jean (Hans) Arp      French   Male        1886   \n",
       "11            13  J. Arrelano Fischer     Mexican   Male        1911   \n",
       "12            15        Folke Arstrom     Swedish   Male        1907   \n",
       "13            16    Cristobal Arteche     Spanish   Male        1900   \n",
       "...          ...                  ...         ...    ...         ...   \n",
       "15035      67127             John Sex    American    NaN        1956   \n",
       "15036      67128      Egidio Bonfante     Italian   Male        1922   \n",
       "15072      67336           Cal Dalton    American    NaN        1908   \n",
       "15073      67337           Cal Howard    American    NaN        1911   \n",
       "15079      67350    Howard Guttenplan    American    NaN        1934   \n",
       "\n",
       "       Death Year  Age  \n",
       "0            1992   62  \n",
       "9            1966   80  \n",
       "11           1995   84  \n",
       "12           1997   90  \n",
       "13           1964   64  \n",
       "...           ...  ...  \n",
       "15035        1990   34  \n",
       "15036        2004   82  \n",
       "15072        1974   66  \n",
       "15073        1993   82  \n",
       "15079        2015   81  \n",
       "\n",
       "[4566 rows x 7 columns]"
      ]
     },
     "metadata": {},
     "output_type": "display_data"
    }
   ],
   "source": [
    "# i repeated the step that adds a new column of the calculated age\n",
    "revised_artists['Age'] = revised_artists['Death Year'] - revised_artists['Birth Year']\n",
    "\n",
    "display(revised_artists)"
   ]
  },
  {
   "cell_type": "code",
   "execution_count": 211,
   "metadata": {},
   "outputs": [
    {
     "data": {
      "text/plain": [
       "12486    130\n",
       "3449     108\n",
       "9164     108\n",
       "13568    107\n",
       "1549     106\n",
       "Name: Age, dtype: int64"
      ]
     },
     "execution_count": 211,
     "metadata": {},
     "output_type": "execute_result"
    }
   ],
   "source": [
    "# okay, now I will check to see if there are any errors this time\n",
    "\n",
    "revised_artists['Age'].nlargest(5)\n",
    "\n",
    "# the oldest artist lived is 130 years old"
   ]
  },
  {
   "cell_type": "code",
   "execution_count": 205,
   "metadata": {},
   "outputs": [
    {
     "data": {
      "text/plain": [
       "12486"
      ]
     },
     "metadata": {},
     "output_type": "display_data"
    },
    {
     "data": {
      "text/html": [
       "<div>\n",
       "<style scoped>\n",
       "    .dataframe tbody tr th:only-of-type {\n",
       "        vertical-align: middle;\n",
       "    }\n",
       "\n",
       "    .dataframe tbody tr th {\n",
       "        vertical-align: top;\n",
       "    }\n",
       "\n",
       "    .dataframe thead th {\n",
       "        text-align: right;\n",
       "    }\n",
       "</style>\n",
       "<table border=\"1\" class=\"dataframe\">\n",
       "  <thead>\n",
       "    <tr style=\"text-align: right;\">\n",
       "      <th></th>\n",
       "      <th>Artist ID</th>\n",
       "      <th>Name</th>\n",
       "      <th>Nationality</th>\n",
       "      <th>Gender</th>\n",
       "      <th>Birth Year</th>\n",
       "      <th>Death Year</th>\n",
       "      <th>Age</th>\n",
       "    </tr>\n",
       "  </thead>\n",
       "  <tbody>\n",
       "    <tr>\n",
       "      <th>12486</th>\n",
       "      <td>38294</td>\n",
       "      <td>Union Paper Bag Machine Company, Philadelphia, PA</td>\n",
       "      <td>NaN</td>\n",
       "      <td>NaN</td>\n",
       "      <td>1869</td>\n",
       "      <td>1999</td>\n",
       "      <td>130</td>\n",
       "    </tr>\n",
       "  </tbody>\n",
       "</table>\n",
       "</div>"
      ],
      "text/plain": [
       "       Artist ID                                               Name  \\\n",
       "12486      38294  Union Paper Bag Machine Company, Philadelphia, PA   \n",
       "\n",
       "      Nationality Gender  Birth Year  Death Year  Age  \n",
       "12486         NaN    NaN        1869        1999  130  "
      ]
     },
     "metadata": {},
     "output_type": "display_data"
    }
   ],
   "source": [
    "# i pulled the record with the max age\n",
    "\n",
    "max_index = revised_artists['Age'].idxmax()\n",
    "display(max_index)\n",
    "\n",
    "max_row = revised_artists.loc[[max_index]]\n",
    "display(max_row)"
   ]
  },
  {
   "cell_type": "markdown",
   "metadata": {},
   "source": [
    "I notice that the artist is a company instead of a person. <br>\n",
    "After I did some [research](https://www.moma.org/explore/inside_out/2010/11/03/in-the-bag/), \n",
    "I found out that the artist who created the paper bag was Francis Wolle, and he died in 1893. <br>\n",
    "Since the max age is of a company, I will move to the next record for the sake of answering the question properly. <br>\n",
    "<br>\n",
    "There are 2 artists that tie for the oldest artist lived at 108 years old. <br>"
   ]
  },
  {
   "cell_type": "code",
   "execution_count": 214,
   "metadata": {},
   "outputs": [
    {
     "data": {
      "text/html": [
       "<div>\n",
       "<style scoped>\n",
       "    .dataframe tbody tr th:only-of-type {\n",
       "        vertical-align: middle;\n",
       "    }\n",
       "\n",
       "    .dataframe tbody tr th {\n",
       "        vertical-align: top;\n",
       "    }\n",
       "\n",
       "    .dataframe thead th {\n",
       "        text-align: right;\n",
       "    }\n",
       "</style>\n",
       "<table border=\"1\" class=\"dataframe\">\n",
       "  <thead>\n",
       "    <tr style=\"text-align: right;\">\n",
       "      <th></th>\n",
       "      <th>Artist ID</th>\n",
       "      <th>Name</th>\n",
       "      <th>Nationality</th>\n",
       "      <th>Gender</th>\n",
       "      <th>Birth Year</th>\n",
       "      <th>Death Year</th>\n",
       "      <th>Age</th>\n",
       "    </tr>\n",
       "  </thead>\n",
       "  <tbody>\n",
       "    <tr>\n",
       "      <th>9164</th>\n",
       "      <td>23931</td>\n",
       "      <td>B. Efimov</td>\n",
       "      <td>Russian</td>\n",
       "      <td>Male</td>\n",
       "      <td>1900</td>\n",
       "      <td>2008</td>\n",
       "      <td>108</td>\n",
       "    </tr>\n",
       "    <tr>\n",
       "      <th>3449</th>\n",
       "      <td>3844</td>\n",
       "      <td>Leni Matthaei</td>\n",
       "      <td>German</td>\n",
       "      <td>Female</td>\n",
       "      <td>1873</td>\n",
       "      <td>1981</td>\n",
       "      <td>108</td>\n",
       "    </tr>\n",
       "  </tbody>\n",
       "</table>\n",
       "</div>"
      ],
      "text/plain": [
       "      Artist ID           Name Nationality  Gender  Birth Year  Death Year  \\\n",
       "9164      23931      B. Efimov     Russian    Male        1900        2008   \n",
       "3449       3844  Leni Matthaei      German  Female        1873        1981   \n",
       "\n",
       "      Age  \n",
       "9164  108  \n",
       "3449  108  "
      ]
     },
     "metadata": {},
     "output_type": "display_data"
    }
   ],
   "source": [
    "# i grabbed the indexes 9164 and 3449 and input them into my code\n",
    "\n",
    "real_max_row = revised_artists.loc[[9164,3449]]\n",
    "display(real_max_row)\n",
    "\n",
    "# the results show that B. Efimov and Leni Matthaei are the oldest artists that lived in this dataset"
   ]
  },
  {
   "cell_type": "markdown",
   "metadata": {},
   "source": [
    "Just to verify that this is accurate, I will fact check my results: <br>\n",
    "- [Boris Efimov](https://en.wikipedia.org/wiki/Boris_Yefimov) was a Russian cartoonist best known for his critical political caricatures of Adolf Hitler and other Nazis. He was born on October 11, 1900 and died October 1, 2008. <br>\n",
    "<br>\n",
    "- [Leni Matthaei](https://www.moma.org/artists/3844#works) was a German artist that created the Abstract Landscape made of linen bobbin lace and is stored at the MoMA. She was born in 1873 and died in 1981.<br>\n",
    "\n",
    "### Which artist in this data set lived the longest?\n",
    "\n",
    "### `Boris Efimov and Leni Matthaei are the oldest artists that lived in this dataset.`"
   ]
  },
  {
   "cell_type": "markdown",
   "metadata": {},
   "source": [
    "# 2. Who are the top 10 artists by the number of artworks?\n",
    "---\n",
    "\n",
    "I will create a new dataframe from the dataset to only look at relative columns.<br>\n",
    "Then, I will remove null values in `artists`. <br>\n",
    "After that, I should be able to determine which artists have to most number of artworks."
   ]
  },
  {
   "cell_type": "code",
   "execution_count": 230,
   "metadata": {},
   "outputs": [
    {
     "data": {
      "text/html": [
       "<div>\n",
       "<style scoped>\n",
       "    .dataframe tbody tr th:only-of-type {\n",
       "        vertical-align: middle;\n",
       "    }\n",
       "\n",
       "    .dataframe tbody tr th {\n",
       "        vertical-align: top;\n",
       "    }\n",
       "\n",
       "    .dataframe thead th {\n",
       "        text-align: right;\n",
       "    }\n",
       "</style>\n",
       "<table border=\"1\" class=\"dataframe\">\n",
       "  <thead>\n",
       "    <tr style=\"text-align: right;\">\n",
       "      <th></th>\n",
       "      <th>Artwork ID</th>\n",
       "      <th>Title</th>\n",
       "      <th>Artist ID</th>\n",
       "      <th>Name</th>\n",
       "    </tr>\n",
       "  </thead>\n",
       "  <tbody>\n",
       "    <tr>\n",
       "      <th>0</th>\n",
       "      <td>2</td>\n",
       "      <td>Ferdinandsbrücke Project, Vienna, Austria, Ele...</td>\n",
       "      <td>6210</td>\n",
       "      <td>Otto Wagner</td>\n",
       "    </tr>\n",
       "    <tr>\n",
       "      <th>1</th>\n",
       "      <td>3</td>\n",
       "      <td>City of Music, National Superior Conservatory ...</td>\n",
       "      <td>7470</td>\n",
       "      <td>Christian de Portzamparc</td>\n",
       "    </tr>\n",
       "    <tr>\n",
       "      <th>2</th>\n",
       "      <td>4</td>\n",
       "      <td>Villa near Vienna Project, Outside Vienna, Aus...</td>\n",
       "      <td>7605</td>\n",
       "      <td>Emil Hoppe</td>\n",
       "    </tr>\n",
       "    <tr>\n",
       "      <th>3</th>\n",
       "      <td>5</td>\n",
       "      <td>The Manhattan Transcripts Project, New York, N...</td>\n",
       "      <td>7056</td>\n",
       "      <td>Bernard Tschumi</td>\n",
       "    </tr>\n",
       "    <tr>\n",
       "      <th>4</th>\n",
       "      <td>6</td>\n",
       "      <td>Villa, project, outside Vienna, Austria, Exter...</td>\n",
       "      <td>7605</td>\n",
       "      <td>Emil Hoppe</td>\n",
       "    </tr>\n",
       "  </tbody>\n",
       "</table>\n",
       "</div>"
      ],
      "text/plain": [
       "   Artwork ID                                              Title Artist ID  \\\n",
       "0           2  Ferdinandsbrücke Project, Vienna, Austria, Ele...      6210   \n",
       "1           3  City of Music, National Superior Conservatory ...      7470   \n",
       "2           4  Villa near Vienna Project, Outside Vienna, Aus...      7605   \n",
       "3           5  The Manhattan Transcripts Project, New York, N...      7056   \n",
       "4           6  Villa, project, outside Vienna, Austria, Exter...      7605   \n",
       "\n",
       "                       Name  \n",
       "0               Otto Wagner  \n",
       "1  Christian de Portzamparc  \n",
       "2                Emil Hoppe  \n",
       "3           Bernard Tschumi  \n",
       "4                Emil Hoppe  "
      ]
     },
     "execution_count": 230,
     "metadata": {},
     "output_type": "execute_result"
    }
   ],
   "source": [
    "# since there are a lot of columns we don't need at the moment, i will create a dataframe with the relative columns\n",
    "\n",
    "top_artists_by_num_artworks = artworks[['Artwork ID', 'Title', 'Artist ID', 'Name']]\n",
    "top_artists_by_num_artworks.head()"
   ]
  },
  {
   "cell_type": "code",
   "execution_count": 239,
   "metadata": {},
   "outputs": [
    {
     "name": "stdout",
     "output_type": "stream",
     "text": [
      "<class 'pandas.core.frame.DataFrame'>\n",
      "RangeIndex: 130262 entries, 0 to 130261\n",
      "Data columns (total 4 columns):\n",
      " #   Column      Non-Null Count   Dtype \n",
      "---  ------      --------------   ----- \n",
      " 0   Artwork ID  130262 non-null  int64 \n",
      " 1   Title       130210 non-null  object\n",
      " 2   Artist ID   128802 non-null  object\n",
      " 3   Name        128802 non-null  object\n",
      "dtypes: int64(1), object(3)\n",
      "memory usage: 4.0+ MB\n"
     ]
    }
   ],
   "source": [
    "# a quick look at the info\n",
    "\n",
    "top_artists_by_num_artworks.info()"
   ]
  },
  {
   "cell_type": "code",
   "execution_count": 242,
   "metadata": {},
   "outputs": [
    {
     "name": "stdout",
     "output_type": "stream",
     "text": [
      "<class 'pandas.core.frame.DataFrame'>\n",
      "Int64Index: 128802 entries, 0 to 130261\n",
      "Data columns (total 4 columns):\n",
      " #   Column      Non-Null Count   Dtype \n",
      "---  ------      --------------   ----- \n",
      " 0   Artwork ID  128802 non-null  int64 \n",
      " 1   Title       128776 non-null  object\n",
      " 2   Artist ID   128802 non-null  object\n",
      " 3   Name        128802 non-null  object\n",
      "dtypes: int64(1), object(3)\n",
      "memory usage: 4.9+ MB\n"
     ]
    }
   ],
   "source": [
    "# I will remove the artworks that have null values in Artist ID and Name\n",
    "\n",
    "most_artworks = top_artists_by_num_artworks.dropna(subset=['Artist ID','Name'])\n",
    "most_artworks.info()\n",
    "\n",
    "# now the dataframe is cleaner for analysis"
   ]
  },
  {
   "cell_type": "code",
   "execution_count": 243,
   "metadata": {},
   "outputs": [
    {
     "data": {
      "text/html": [
       "<div>\n",
       "<style scoped>\n",
       "    .dataframe tbody tr th:only-of-type {\n",
       "        vertical-align: middle;\n",
       "    }\n",
       "\n",
       "    .dataframe tbody tr th {\n",
       "        vertical-align: top;\n",
       "    }\n",
       "\n",
       "    .dataframe thead th {\n",
       "        text-align: right;\n",
       "    }\n",
       "</style>\n",
       "<table border=\"1\" class=\"dataframe\">\n",
       "  <thead>\n",
       "    <tr style=\"text-align: right;\">\n",
       "      <th></th>\n",
       "      <th>Name</th>\n",
       "    </tr>\n",
       "  </thead>\n",
       "  <tbody>\n",
       "    <tr>\n",
       "      <th>Eugène Atget</th>\n",
       "      <td>5050</td>\n",
       "    </tr>\n",
       "    <tr>\n",
       "      <th>Louise Bourgeois</th>\n",
       "      <td>3318</td>\n",
       "    </tr>\n",
       "    <tr>\n",
       "      <th>Ludwig Mies van der Rohe</th>\n",
       "      <td>2566</td>\n",
       "    </tr>\n",
       "    <tr>\n",
       "      <th>Unknown photographer</th>\n",
       "      <td>1575</td>\n",
       "    </tr>\n",
       "    <tr>\n",
       "      <th>Jean Dubuffet</th>\n",
       "      <td>1435</td>\n",
       "    </tr>\n",
       "    <tr>\n",
       "      <th>Lee Friedlander</th>\n",
       "      <td>1317</td>\n",
       "    </tr>\n",
       "    <tr>\n",
       "      <th>Pablo Picasso</th>\n",
       "      <td>1310</td>\n",
       "    </tr>\n",
       "    <tr>\n",
       "      <th>Marc Chagall</th>\n",
       "      <td>1162</td>\n",
       "    </tr>\n",
       "    <tr>\n",
       "      <th>Henri Matisse</th>\n",
       "      <td>1063</td>\n",
       "    </tr>\n",
       "    <tr>\n",
       "      <th>Pierre Bonnard</th>\n",
       "      <td>894</td>\n",
       "    </tr>\n",
       "    <tr>\n",
       "      <th>Lilly Reich</th>\n",
       "      <td>823</td>\n",
       "    </tr>\n",
       "  </tbody>\n",
       "</table>\n",
       "</div>"
      ],
      "text/plain": [
       "                          Name\n",
       "Eugène Atget              5050\n",
       "Louise Bourgeois          3318\n",
       "Ludwig Mies van der Rohe  2566\n",
       "Unknown photographer      1575\n",
       "Jean Dubuffet             1435\n",
       "Lee Friedlander           1317\n",
       "Pablo Picasso             1310\n",
       "Marc Chagall              1162\n",
       "Henri Matisse             1063\n",
       "Pierre Bonnard             894\n",
       "Lilly Reich                823"
      ]
     },
     "execution_count": 243,
     "metadata": {},
     "output_type": "execute_result"
    }
   ],
   "source": [
    "# used the value_counts method to count all the unique values of the artist names\n",
    "\n",
    "most_artworks['Name'].value_counts().to_frame()[:11]\n",
    "\n",
    "# the top 10 artists with the most number of artworks are displayed below\n",
    "# because the 4th top artist is actually 'Unknown photographer',\n",
    "# I included the top 11 to get one more artist name."
   ]
  },
  {
   "cell_type": "markdown",
   "metadata": {},
   "source": [
    "### Who are the top 10 artists by the number of artworks?\n",
    "\n",
    "### The top 10 artists with the most number of artworks displayed are `Eugène Atget`, `Louise Bourgeois`, `Ludwig Mies van der Rohe`, `Jean Dubuffet`, `Lee Friedlander`, `Pablo Picasso`, `Marc Chagall`, `Henri Matisse`, `Pierre Bonnard`, and `Lilly Reich`."
   ]
  },
  {
   "cell_type": "code",
   "execution_count": 254,
   "metadata": {},
   "outputs": [
    {
     "name": "stdout",
     "output_type": "stream",
     "text": [
      "<class 'pandas.core.frame.DataFrame'>\n",
      "Int64Index: 128802 entries, 0 to 130261\n",
      "Data columns (total 4 columns):\n",
      " #   Column      Non-Null Count   Dtype \n",
      "---  ------      --------------   ----- \n",
      " 0   Artwork ID  128802 non-null  int64 \n",
      " 1   Title       128776 non-null  object\n",
      " 2   Artist ID   128802 non-null  object\n",
      " 3   Name        127227 non-null  object\n",
      "dtypes: int64(1), object(3)\n",
      "memory usage: 4.9+ MB\n"
     ]
    }
   ],
   "source": [
    "# to make my results more accurate, I will replace 'Unknown photographer' with NaN\n",
    "\n",
    "bye_unknown_photographer = most_artworks.replace('Unknown photographer', np.nan)\n",
    "bye_unknown_photographer.info()\n",
    "\n",
    "# the number of null values in 'Name' have increased after the change"
   ]
  },
  {
   "cell_type": "code",
   "execution_count": 255,
   "metadata": {},
   "outputs": [
    {
     "data": {
      "text/html": [
       "<div>\n",
       "<style scoped>\n",
       "    .dataframe tbody tr th:only-of-type {\n",
       "        vertical-align: middle;\n",
       "    }\n",
       "\n",
       "    .dataframe tbody tr th {\n",
       "        vertical-align: top;\n",
       "    }\n",
       "\n",
       "    .dataframe thead th {\n",
       "        text-align: right;\n",
       "    }\n",
       "</style>\n",
       "<table border=\"1\" class=\"dataframe\">\n",
       "  <thead>\n",
       "    <tr style=\"text-align: right;\">\n",
       "      <th></th>\n",
       "      <th>Name</th>\n",
       "    </tr>\n",
       "  </thead>\n",
       "  <tbody>\n",
       "    <tr>\n",
       "      <th>Eugène Atget</th>\n",
       "      <td>5050</td>\n",
       "    </tr>\n",
       "    <tr>\n",
       "      <th>Louise Bourgeois</th>\n",
       "      <td>3318</td>\n",
       "    </tr>\n",
       "    <tr>\n",
       "      <th>Ludwig Mies van der Rohe</th>\n",
       "      <td>2566</td>\n",
       "    </tr>\n",
       "    <tr>\n",
       "      <th>Jean Dubuffet</th>\n",
       "      <td>1435</td>\n",
       "    </tr>\n",
       "    <tr>\n",
       "      <th>Lee Friedlander</th>\n",
       "      <td>1317</td>\n",
       "    </tr>\n",
       "    <tr>\n",
       "      <th>Pablo Picasso</th>\n",
       "      <td>1310</td>\n",
       "    </tr>\n",
       "    <tr>\n",
       "      <th>Marc Chagall</th>\n",
       "      <td>1162</td>\n",
       "    </tr>\n",
       "    <tr>\n",
       "      <th>Henri Matisse</th>\n",
       "      <td>1063</td>\n",
       "    </tr>\n",
       "    <tr>\n",
       "      <th>Pierre Bonnard</th>\n",
       "      <td>894</td>\n",
       "    </tr>\n",
       "    <tr>\n",
       "      <th>Lilly Reich</th>\n",
       "      <td>823</td>\n",
       "    </tr>\n",
       "  </tbody>\n",
       "</table>\n",
       "</div>"
      ],
      "text/plain": [
       "                          Name\n",
       "Eugène Atget              5050\n",
       "Louise Bourgeois          3318\n",
       "Ludwig Mies van der Rohe  2566\n",
       "Jean Dubuffet             1435\n",
       "Lee Friedlander           1317\n",
       "Pablo Picasso             1310\n",
       "Marc Chagall              1162\n",
       "Henri Matisse             1063\n",
       "Pierre Bonnard             894\n",
       "Lilly Reich                823"
      ]
     },
     "execution_count": 255,
     "metadata": {},
     "output_type": "execute_result"
    }
   ],
   "source": [
    "# now the top 10 results are clean and accurate\n",
    "\n",
    "bye_unknown_photographer['Name'].value_counts().to_frame()[:10]"
   ]
  },
  {
   "cell_type": "markdown",
   "metadata": {},
   "source": [
    "# 3. Which artist created the most artwork by total surface area?\n",
    "---\n",
    "\n",
    "First, I will figure out which measurement to use for the surface area equation. <br>\n",
    "Since surface area is for 3D artworks, I will drop any nulls in `Depth (cm)`, because those are probably 2D paintings. <br>\n",
    "The equation for surface area is ***`SA = 2(LW + LH + WH)`***. <br>\n",
    "Since `Length (cm)` is a very small fraction of the total number of artworks, I went with `Depth (cm)` instead. <br>\n",
    "After creating a new column for surface area, I will use a pivot table to add the sum of all the surface areas by artists. <br>\n"
   ]
  },
  {
   "cell_type": "code",
   "execution_count": 452,
   "metadata": {},
   "outputs": [
    {
     "data": {
      "text/html": [
       "<div>\n",
       "<style scoped>\n",
       "    .dataframe tbody tr th:only-of-type {\n",
       "        vertical-align: middle;\n",
       "    }\n",
       "\n",
       "    .dataframe tbody tr th {\n",
       "        vertical-align: top;\n",
       "    }\n",
       "\n",
       "    .dataframe thead th {\n",
       "        text-align: right;\n",
       "    }\n",
       "</style>\n",
       "<table border=\"1\" class=\"dataframe\">\n",
       "  <thead>\n",
       "    <tr style=\"text-align: right;\">\n",
       "      <th></th>\n",
       "      <th>Artist ID</th>\n",
       "      <th>Name</th>\n",
       "      <th>Height (cm)</th>\n",
       "      <th>Width (cm)</th>\n",
       "      <th>Depth (cm)</th>\n",
       "    </tr>\n",
       "  </thead>\n",
       "  <tbody>\n",
       "    <tr>\n",
       "      <th>0</th>\n",
       "      <td>6210</td>\n",
       "      <td>Otto Wagner</td>\n",
       "      <td>48.6000</td>\n",
       "      <td>168.9000</td>\n",
       "      <td>NaN</td>\n",
       "    </tr>\n",
       "    <tr>\n",
       "      <th>1</th>\n",
       "      <td>7470</td>\n",
       "      <td>Christian de Portzamparc</td>\n",
       "      <td>40.6401</td>\n",
       "      <td>29.8451</td>\n",
       "      <td>NaN</td>\n",
       "    </tr>\n",
       "    <tr>\n",
       "      <th>2</th>\n",
       "      <td>7605</td>\n",
       "      <td>Emil Hoppe</td>\n",
       "      <td>34.3000</td>\n",
       "      <td>31.8000</td>\n",
       "      <td>NaN</td>\n",
       "    </tr>\n",
       "    <tr>\n",
       "      <th>3</th>\n",
       "      <td>7056</td>\n",
       "      <td>Bernard Tschumi</td>\n",
       "      <td>50.8000</td>\n",
       "      <td>50.8000</td>\n",
       "      <td>NaN</td>\n",
       "    </tr>\n",
       "    <tr>\n",
       "      <th>4</th>\n",
       "      <td>7605</td>\n",
       "      <td>Emil Hoppe</td>\n",
       "      <td>38.4000</td>\n",
       "      <td>19.1000</td>\n",
       "      <td>NaN</td>\n",
       "    </tr>\n",
       "  </tbody>\n",
       "</table>\n",
       "</div>"
      ],
      "text/plain": [
       "  Artist ID                      Name  Height (cm)  Width (cm)  Depth (cm)\n",
       "0      6210               Otto Wagner      48.6000    168.9000         NaN\n",
       "1      7470  Christian de Portzamparc      40.6401     29.8451         NaN\n",
       "2      7605                Emil Hoppe      34.3000     31.8000         NaN\n",
       "3      7056           Bernard Tschumi      50.8000     50.8000         NaN\n",
       "4      7605                Emil Hoppe      38.4000     19.1000         NaN"
      ]
     },
     "execution_count": 452,
     "metadata": {},
     "output_type": "execute_result"
    }
   ],
   "source": [
    "# i will create a new dataframe with the relative columns to find surface area\n",
    "\n",
    "SA_artworks = artworks[['Artist ID', 'Name', 'Height (cm)', 'Width (cm)','Depth (cm)']]\n",
    "SA_artworks.head()"
   ]
  },
  {
   "cell_type": "code",
   "execution_count": 454,
   "metadata": {},
   "outputs": [
    {
     "name": "stdout",
     "output_type": "stream",
     "text": [
      "<class 'pandas.core.frame.DataFrame'>\n",
      "RangeIndex: 130262 entries, 0 to 130261\n",
      "Data columns (total 5 columns):\n",
      " #   Column       Non-Null Count   Dtype  \n",
      "---  ------       --------------   -----  \n",
      " 0   Artist ID    128802 non-null  object \n",
      " 1   Name         128802 non-null  object \n",
      " 2   Height (cm)  111893 non-null  float64\n",
      " 3   Width (cm)   111003 non-null  float64\n",
      " 4   Depth (cm)   11443 non-null   float64\n",
      "dtypes: float64(3), object(2)\n",
      "memory usage: 5.0+ MB\n"
     ]
    }
   ],
   "source": [
    "# a quick look at the info\n",
    "\n",
    "SA_artworks.info()\n",
    "\n",
    "# there a far less Depth (cm) data compared to the other measurements"
   ]
  },
  {
   "cell_type": "code",
   "execution_count": 455,
   "metadata": {},
   "outputs": [
    {
     "name": "stdout",
     "output_type": "stream",
     "text": [
      "<class 'pandas.core.frame.DataFrame'>\n",
      "Int64Index: 11377 entries, 110 to 130261\n",
      "Data columns (total 5 columns):\n",
      " #   Column       Non-Null Count  Dtype  \n",
      "---  ------       --------------  -----  \n",
      " 0   Artist ID    10830 non-null  object \n",
      " 1   Name         10830 non-null  object \n",
      " 2   Height (cm)  11377 non-null  float64\n",
      " 3   Width (cm)   11377 non-null  float64\n",
      " 4   Depth (cm)   11377 non-null  float64\n",
      "dtypes: float64(3), object(2)\n",
      "memory usage: 533.3+ KB\n"
     ]
    }
   ],
   "source": [
    "# i will drop any records with null values in Height, Width, or Depth\n",
    "\n",
    "SA_artworks = SA_artworks.dropna(subset=['Height (cm)','Width (cm)','Depth (cm)'])\n",
    "SA_artworks.info()\n",
    "\n",
    "# the number of records have decreased by a lot because there are lots of nulls in Depth (cm)"
   ]
  },
  {
   "cell_type": "markdown",
   "metadata": {},
   "source": [
    "I will use 3 dimensions for the equation: `Height (cm)`, `Width (cm)`, and `Depth (cm)`. <br>\n",
    "Again, the equation for `Surface Area = 2(LW + LH + WH)`"
   ]
  },
  {
   "cell_type": "code",
   "execution_count": 456,
   "metadata": {},
   "outputs": [],
   "source": [
    "# create a new column for the surface area \n",
    "\n",
    "SA_artworks['Surface Area'] = 2 * ((SA_artworks['Depth (cm)']*SA_artworks['Width (cm)']) + \\\n",
    "                                (SA_artworks['Depth (cm)']*SA_artworks['Height (cm)']) + \\\n",
    "                                (SA_artworks['Width (cm)']*SA_artworks['Height (cm)']))\n"
   ]
  },
  {
   "cell_type": "code",
   "execution_count": 457,
   "metadata": {},
   "outputs": [
    {
     "data": {
      "text/html": [
       "<div>\n",
       "<style scoped>\n",
       "    .dataframe tbody tr th:only-of-type {\n",
       "        vertical-align: middle;\n",
       "    }\n",
       "\n",
       "    .dataframe tbody tr th {\n",
       "        vertical-align: top;\n",
       "    }\n",
       "\n",
       "    .dataframe thead th {\n",
       "        text-align: right;\n",
       "    }\n",
       "</style>\n",
       "<table border=\"1\" class=\"dataframe\">\n",
       "  <thead>\n",
       "    <tr style=\"text-align: right;\">\n",
       "      <th></th>\n",
       "      <th>Artist ID</th>\n",
       "      <th>Name</th>\n",
       "      <th>Height (cm)</th>\n",
       "      <th>Width (cm)</th>\n",
       "      <th>Depth (cm)</th>\n",
       "      <th>Surface Area</th>\n",
       "    </tr>\n",
       "  </thead>\n",
       "  <tbody>\n",
       "    <tr>\n",
       "      <th>108404</th>\n",
       "      <td>7855</td>\n",
       "      <td>Rachel Harrison</td>\n",
       "      <td>457.200914</td>\n",
       "      <td>1262.382525</td>\n",
       "      <td>1808.483617</td>\n",
       "      <td>7.374002e+06</td>\n",
       "    </tr>\n",
       "    <tr>\n",
       "      <th>80901</th>\n",
       "      <td>26421, 26424</td>\n",
       "      <td>Louise Wilson, Jane Wilson</td>\n",
       "      <td>548.641100</td>\n",
       "      <td>1066.802100</td>\n",
       "      <td>1066.802100</td>\n",
       "      <td>4.617299e+06</td>\n",
       "    </tr>\n",
       "    <tr>\n",
       "      <th>75160</th>\n",
       "      <td>7489</td>\n",
       "      <td>Tony Oursler</td>\n",
       "      <td>348.000000</td>\n",
       "      <td>1033.800000</td>\n",
       "      <td>853.400000</td>\n",
       "      <td>3.077981e+06</td>\n",
       "    </tr>\n",
       "    <tr>\n",
       "      <th>74825</th>\n",
       "      <td>5349</td>\n",
       "      <td>Richard Serra</td>\n",
       "      <td>373.400000</td>\n",
       "      <td>807.700000</td>\n",
       "      <td>990.600000</td>\n",
       "      <td>2.943186e+06</td>\n",
       "    </tr>\n",
       "    <tr>\n",
       "      <th>98221</th>\n",
       "      <td>37577</td>\n",
       "      <td>Ranjani Shettar</td>\n",
       "      <td>1097.282195</td>\n",
       "      <td>731.521463</td>\n",
       "      <td>365.760732</td>\n",
       "      <td>2.943180e+06</td>\n",
       "    </tr>\n",
       "  </tbody>\n",
       "</table>\n",
       "</div>"
      ],
      "text/plain": [
       "           Artist ID                        Name  Height (cm)   Width (cm)  \\\n",
       "108404          7855             Rachel Harrison   457.200914  1262.382525   \n",
       "80901   26421, 26424  Louise Wilson, Jane Wilson   548.641100  1066.802100   \n",
       "75160           7489                Tony Oursler   348.000000  1033.800000   \n",
       "74825           5349               Richard Serra   373.400000   807.700000   \n",
       "98221          37577             Ranjani Shettar  1097.282195   731.521463   \n",
       "\n",
       "         Depth (cm)  Surface Area  \n",
       "108404  1808.483617  7.374002e+06  \n",
       "80901   1066.802100  4.617299e+06  \n",
       "75160    853.400000  3.077981e+06  \n",
       "74825    990.600000  2.943186e+06  \n",
       "98221    365.760732  2.943180e+06  "
      ]
     },
     "execution_count": 457,
     "metadata": {},
     "output_type": "execute_result"
    }
   ],
   "source": [
    "# display the (top 5) records in descending order by Surface Area\n",
    "\n",
    "SA_artworks.sort_values(by='Surface Area', ascending=False)[:5]\n",
    "\n",
    "# Rachel Harrison has the largest artwork, \n",
    "# however the we are looking for the TOTAL surface area by an artist\n",
    "# I would need to get the sum of the surface area and group them by artist somehow"
   ]
  },
  {
   "cell_type": "code",
   "execution_count": 458,
   "metadata": {},
   "outputs": [
    {
     "data": {
      "text/html": [
       "<div>\n",
       "<style scoped>\n",
       "    .dataframe tbody tr th:only-of-type {\n",
       "        vertical-align: middle;\n",
       "    }\n",
       "\n",
       "    .dataframe tbody tr th {\n",
       "        vertical-align: top;\n",
       "    }\n",
       "\n",
       "    .dataframe thead th {\n",
       "        text-align: right;\n",
       "    }\n",
       "</style>\n",
       "<table border=\"1\" class=\"dataframe\">\n",
       "  <thead>\n",
       "    <tr style=\"text-align: right;\">\n",
       "      <th></th>\n",
       "      <th>Surface Area</th>\n",
       "    </tr>\n",
       "    <tr>\n",
       "      <th>Name</th>\n",
       "      <th></th>\n",
       "    </tr>\n",
       "  </thead>\n",
       "  <tbody>\n",
       "    <tr>\n",
       "      <th>Richard Serra</th>\n",
       "      <td>8.584234e+06</td>\n",
       "    </tr>\n",
       "  </tbody>\n",
       "</table>\n",
       "</div>"
      ],
      "text/plain": [
       "               Surface Area\n",
       "Name                       \n",
       "Richard Serra  8.584234e+06"
      ]
     },
     "execution_count": 458,
     "metadata": {},
     "output_type": "execute_result"
    }
   ],
   "source": [
    "# a pivot table will group the total Surface Area by artist\n",
    "# and I sorted this pivot table so that we can see who has the most surface area combined of all their artworks\n",
    "\n",
    "pd.pivot_table(SA_artworks,index='Name', values='Surface Area', aggfunc='sum')\\\n",
    "                                .sort_values('Surface Area', ascending=False)[:1]\n",
    "\n",
    "# Richard Serra has created the most artwork by total surface area."
   ]
  },
  {
   "cell_type": "markdown",
   "metadata": {},
   "source": [
    "### Which artist created the most artwork by total surface area?\n",
    "\n",
    "### `Richard Serra has created the most artwork by the total surface area of 8,584,234 cm`<sup>`2`</sup>.\n",
    "[Richard Serra](https://www.moma.org/artists/5349) is an American artist known for his large-scale sculptures made for landscape, urban, and architectural settings. "
   ]
  },
  {
   "cell_type": "markdown",
   "metadata": {},
   "source": [
    "# 4. Did any artists have artwork acquired during their lifetime?\n",
    "---\n",
    "\n",
    "For this problem, I would need to join the `artists` and `artworks` datasets together. <br>\n",
    "Before I do that, I need to make sure the primary key `Artist ID` is the same datatype in `artists` and `artworks` so that there won't be an error. <br>\n",
    "Once the datasets are combined, I will query for artists that had artwork acquired during their life time. <br>"
   ]
  },
  {
   "cell_type": "code",
   "execution_count": 709,
   "metadata": {},
   "outputs": [],
   "source": [
    "# I will use the 'final_artists' dataframe I created above because it has dropped nulls and Death Year is set to 2021\n",
    "# filter out anyone over the age of 108 because I know the oldest artists lived until 108\n",
    "\n",
    "artists2 = final_artists[(final_artists['Age'] <= 108)]"
   ]
  },
  {
   "cell_type": "markdown",
   "metadata": {},
   "source": [
    "I want to merge the artists and artworks datasets later. <br>\n",
    "To do that, I need `Artist ID` on both datasets to be the same datatype."
   ]
  },
  {
   "cell_type": "code",
   "execution_count": 710,
   "metadata": {},
   "outputs": [
    {
     "name": "stdout",
     "output_type": "stream",
     "text": [
      "<class 'pandas.core.frame.DataFrame'>\n",
      "Int64Index: 11044 entries, 0 to 15087\n",
      "Data columns (total 7 columns):\n",
      " #   Column       Non-Null Count  Dtype \n",
      "---  ------       --------------  ----- \n",
      " 0   Artist ID    11044 non-null  object\n",
      " 1   Name         11044 non-null  object\n",
      " 2   Nationality  10780 non-null  object\n",
      " 3   Gender       10275 non-null  object\n",
      " 4   Birth Year   11044 non-null  int64 \n",
      " 5   Death Year   11044 non-null  int64 \n",
      " 6   Age          11044 non-null  int64 \n",
      "dtypes: int64(3), object(4)\n",
      "memory usage: 690.2+ KB\n"
     ]
    }
   ],
   "source": [
    "# i changed 'Artist ID' in the artists dataset from int to string\n",
    "\n",
    "artists2['Artist ID'] = artists2['Artist ID'].astype(str)\n",
    "artists2.info()"
   ]
  },
  {
   "cell_type": "code",
   "execution_count": 711,
   "metadata": {},
   "outputs": [
    {
     "name": "stdout",
     "output_type": "stream",
     "text": [
      "<class 'pandas.core.frame.DataFrame'>\n",
      "Int64Index: 132093 entries, 0 to 132092\n",
      "Data columns (total 27 columns):\n",
      " #   Column              Non-Null Count   Dtype  \n",
      "---  ------              --------------   -----  \n",
      " 0   Artist ID           130633 non-null  object \n",
      " 1   Name_x              116576 non-null  object \n",
      " 2   Nationality         116064 non-null  object \n",
      " 3   Gender              115112 non-null  object \n",
      " 4   Birth Year          116576 non-null  float64\n",
      " 5   Death Year          116576 non-null  float64\n",
      " 6   Age                 116576 non-null  float64\n",
      " 7   Artwork ID          130262 non-null  float64\n",
      " 8   Title               130210 non-null  object \n",
      " 9   Name_y              128802 non-null  object \n",
      " 10  Date                127950 non-null  object \n",
      " 11  Medium              118343 non-null  object \n",
      " 12  Dimensions          118799 non-null  object \n",
      " 13  Acquisition Date    124799 non-null  object \n",
      " 14  Credit              127192 non-null  object \n",
      " 15  Catalogue           130262 non-null  object \n",
      " 16  Department          130262 non-null  object \n",
      " 17  Classification      130262 non-null  object \n",
      " 18  Object Number       130262 non-null  object \n",
      " 19  Diameter (cm)       1399 non-null    float64\n",
      " 20  Circumference (cm)  10 non-null      float64\n",
      " 21  Height (cm)         111893 non-null  float64\n",
      " 22  Length (cm)         736 non-null     float64\n",
      " 23  Width (cm)          111003 non-null  float64\n",
      " 24  Depth (cm)          11443 non-null   float64\n",
      " 25  Weight (kg)         298 non-null     float64\n",
      " 26  Duration (s)        3084 non-null    float64\n",
      "dtypes: float64(12), object(15)\n",
      "memory usage: 28.2+ MB\n"
     ]
    }
   ],
   "source": [
    "# use the merge method to join both datasets together so that it will be easy to query any analysis\n",
    "\n",
    "artists_plus_artworks = pd.merge(artists2, artworks, on='Artist ID', how='outer', indicator=False)\n",
    "artists_plus_artworks.info()"
   ]
  },
  {
   "cell_type": "code",
   "execution_count": 712,
   "metadata": {},
   "outputs": [],
   "source": [
    "# i will create a new dataframe with the relative columns to find out \n",
    "# which artist had artwork acquired during their lifetime\n",
    "\n",
    "artists_plus_artworks = artists_plus_artworks[['Artist ID', 'Name_x', 'Acquisition Date', 'Birth Year','Death Year']]"
   ]
  },
  {
   "cell_type": "code",
   "execution_count": 713,
   "metadata": {},
   "outputs": [
    {
     "name": "stdout",
     "output_type": "stream",
     "text": [
      "<class 'pandas.core.frame.DataFrame'>\n",
      "Int64Index: 132093 entries, 0 to 132092\n",
      "Data columns (total 5 columns):\n",
      " #   Column            Non-Null Count   Dtype  \n",
      "---  ------            --------------   -----  \n",
      " 0   Artist ID         130633 non-null  object \n",
      " 1   Name_x            116576 non-null  object \n",
      " 2   Acquisition Date  124799 non-null  object \n",
      " 3   Birth Year        116576 non-null  float64\n",
      " 4   Death Year        116576 non-null  float64\n",
      "dtypes: float64(2), object(3)\n",
      "memory usage: 6.0+ MB\n"
     ]
    }
   ],
   "source": [
    "# quick look at the new dataframe's info\n",
    "\n",
    "artists_plus_artworks.info()"
   ]
  },
  {
   "cell_type": "markdown",
   "metadata": {},
   "source": [
    "I want to change `Acquisition Date`, `Birth Year`, and `Death Year` to datetime format. <br>\n",
    "This will make searching for `Acquisition Date` between `Birth Year` and `Death Year` error-free."
   ]
  },
  {
   "cell_type": "code",
   "execution_count": 714,
   "metadata": {},
   "outputs": [
    {
     "ename": "OutOfBoundsDatetime",
     "evalue": "Out of bounds nanosecond timestamp: 1216-10-18 00:00:00",
     "output_type": "error",
     "traceback": [
      "\u001b[0;31m---------------------------------------------------------------------------\u001b[0m",
      "\u001b[0;31mTypeError\u001b[0m                                 Traceback (most recent call last)",
      "\u001b[0;32m/opt/anaconda3/lib/python3.7/site-packages/pandas/core/arrays/datetimes.py\u001b[0m in \u001b[0;36mobjects_to_datetime64ns\u001b[0;34m(data, dayfirst, yearfirst, utc, errors, require_iso8601, allow_object)\u001b[0m\n\u001b[1;32m   1855\u001b[0m         \u001b[0;32mtry\u001b[0m\u001b[0;34m:\u001b[0m\u001b[0;34m\u001b[0m\u001b[0;34m\u001b[0m\u001b[0m\n\u001b[0;32m-> 1856\u001b[0;31m             \u001b[0mvalues\u001b[0m\u001b[0;34m,\u001b[0m \u001b[0mtz_parsed\u001b[0m \u001b[0;34m=\u001b[0m \u001b[0mconversion\u001b[0m\u001b[0;34m.\u001b[0m\u001b[0mdatetime_to_datetime64\u001b[0m\u001b[0;34m(\u001b[0m\u001b[0mdata\u001b[0m\u001b[0;34m)\u001b[0m\u001b[0;34m\u001b[0m\u001b[0;34m\u001b[0m\u001b[0m\n\u001b[0m\u001b[1;32m   1857\u001b[0m             \u001b[0;31m# If tzaware, these values represent unix timestamps, so we\u001b[0m\u001b[0;34m\u001b[0m\u001b[0;34m\u001b[0m\u001b[0;34m\u001b[0m\u001b[0m\n",
      "\u001b[0;32mpandas/_libs/tslibs/conversion.pyx\u001b[0m in \u001b[0;36mpandas._libs.tslibs.conversion.datetime_to_datetime64\u001b[0;34m()\u001b[0m\n",
      "\u001b[0;31mTypeError\u001b[0m: Unrecognized value type: <class 'str'>",
      "\nDuring handling of the above exception, another exception occurred:\n",
      "\u001b[0;31mOutOfBoundsDatetime\u001b[0m                       Traceback (most recent call last)",
      "\u001b[0;32m<ipython-input-714-ed7f2507737a>\u001b[0m in \u001b[0;36m<module>\u001b[0;34m\u001b[0m\n\u001b[1;32m      2\u001b[0m \u001b[0;34m\u001b[0m\u001b[0m\n\u001b[1;32m      3\u001b[0m artists_plus_artworks['Acquisition Date'] = pd.to_datetime(artists_plus_artworks['Acquisition Date'], \\\n\u001b[0;32m----> 4\u001b[0;31m                                             format='%Y/%m/%d')\n\u001b[0m\u001b[1;32m      5\u001b[0m \u001b[0;34m\u001b[0m\u001b[0m\n\u001b[1;32m      6\u001b[0m \u001b[0;31m# there is an error:\u001b[0m\u001b[0;34m\u001b[0m\u001b[0;34m\u001b[0m\u001b[0;34m\u001b[0m\u001b[0m\n",
      "\u001b[0;32m/opt/anaconda3/lib/python3.7/site-packages/pandas/core/tools/datetimes.py\u001b[0m in \u001b[0;36mto_datetime\u001b[0;34m(arg, errors, dayfirst, yearfirst, utc, format, exact, unit, infer_datetime_format, origin, cache)\u001b[0m\n\u001b[1;32m    722\u001b[0m                 \u001b[0mresult\u001b[0m \u001b[0;34m=\u001b[0m \u001b[0mresult\u001b[0m\u001b[0;34m.\u001b[0m\u001b[0mtz_localize\u001b[0m\u001b[0;34m(\u001b[0m\u001b[0mtz\u001b[0m\u001b[0;34m)\u001b[0m\u001b[0;34m\u001b[0m\u001b[0;34m\u001b[0m\u001b[0m\n\u001b[1;32m    723\u001b[0m     \u001b[0;32melif\u001b[0m \u001b[0misinstance\u001b[0m\u001b[0;34m(\u001b[0m\u001b[0marg\u001b[0m\u001b[0;34m,\u001b[0m \u001b[0mABCSeries\u001b[0m\u001b[0;34m)\u001b[0m\u001b[0;34m:\u001b[0m\u001b[0;34m\u001b[0m\u001b[0;34m\u001b[0m\u001b[0m\n\u001b[0;32m--> 724\u001b[0;31m         \u001b[0mcache_array\u001b[0m \u001b[0;34m=\u001b[0m \u001b[0m_maybe_cache\u001b[0m\u001b[0;34m(\u001b[0m\u001b[0marg\u001b[0m\u001b[0;34m,\u001b[0m \u001b[0mformat\u001b[0m\u001b[0;34m,\u001b[0m \u001b[0mcache\u001b[0m\u001b[0;34m,\u001b[0m \u001b[0mconvert_listlike\u001b[0m\u001b[0;34m)\u001b[0m\u001b[0;34m\u001b[0m\u001b[0;34m\u001b[0m\u001b[0m\n\u001b[0m\u001b[1;32m    725\u001b[0m         \u001b[0;32mif\u001b[0m \u001b[0;32mnot\u001b[0m \u001b[0mcache_array\u001b[0m\u001b[0;34m.\u001b[0m\u001b[0mempty\u001b[0m\u001b[0;34m:\u001b[0m\u001b[0;34m\u001b[0m\u001b[0;34m\u001b[0m\u001b[0m\n\u001b[1;32m    726\u001b[0m             \u001b[0mresult\u001b[0m \u001b[0;34m=\u001b[0m \u001b[0marg\u001b[0m\u001b[0;34m.\u001b[0m\u001b[0mmap\u001b[0m\u001b[0;34m(\u001b[0m\u001b[0mcache_array\u001b[0m\u001b[0;34m)\u001b[0m\u001b[0;34m\u001b[0m\u001b[0;34m\u001b[0m\u001b[0m\n",
      "\u001b[0;32m/opt/anaconda3/lib/python3.7/site-packages/pandas/core/tools/datetimes.py\u001b[0m in \u001b[0;36m_maybe_cache\u001b[0;34m(arg, format, cache, convert_listlike)\u001b[0m\n\u001b[1;32m    150\u001b[0m         \u001b[0munique_dates\u001b[0m \u001b[0;34m=\u001b[0m \u001b[0munique\u001b[0m\u001b[0;34m(\u001b[0m\u001b[0marg\u001b[0m\u001b[0;34m)\u001b[0m\u001b[0;34m\u001b[0m\u001b[0;34m\u001b[0m\u001b[0m\n\u001b[1;32m    151\u001b[0m         \u001b[0;32mif\u001b[0m \u001b[0mlen\u001b[0m\u001b[0;34m(\u001b[0m\u001b[0munique_dates\u001b[0m\u001b[0;34m)\u001b[0m \u001b[0;34m<\u001b[0m \u001b[0mlen\u001b[0m\u001b[0;34m(\u001b[0m\u001b[0marg\u001b[0m\u001b[0;34m)\u001b[0m\u001b[0;34m:\u001b[0m\u001b[0;34m\u001b[0m\u001b[0;34m\u001b[0m\u001b[0m\n\u001b[0;32m--> 152\u001b[0;31m             \u001b[0mcache_dates\u001b[0m \u001b[0;34m=\u001b[0m \u001b[0mconvert_listlike\u001b[0m\u001b[0;34m(\u001b[0m\u001b[0munique_dates\u001b[0m\u001b[0;34m,\u001b[0m \u001b[0mformat\u001b[0m\u001b[0;34m)\u001b[0m\u001b[0;34m\u001b[0m\u001b[0;34m\u001b[0m\u001b[0m\n\u001b[0m\u001b[1;32m    153\u001b[0m             \u001b[0mcache_array\u001b[0m \u001b[0;34m=\u001b[0m \u001b[0mSeries\u001b[0m\u001b[0;34m(\u001b[0m\u001b[0mcache_dates\u001b[0m\u001b[0;34m,\u001b[0m \u001b[0mindex\u001b[0m\u001b[0;34m=\u001b[0m\u001b[0munique_dates\u001b[0m\u001b[0;34m)\u001b[0m\u001b[0;34m\u001b[0m\u001b[0;34m\u001b[0m\u001b[0m\n\u001b[1;32m    154\u001b[0m     \u001b[0;32mreturn\u001b[0m \u001b[0mcache_array\u001b[0m\u001b[0;34m\u001b[0m\u001b[0;34m\u001b[0m\u001b[0m\n",
      "\u001b[0;32m/opt/anaconda3/lib/python3.7/site-packages/pandas/core/tools/datetimes.py\u001b[0m in \u001b[0;36m_convert_listlike_datetimes\u001b[0;34m(arg, format, name, tz, unit, errors, infer_datetime_format, dayfirst, yearfirst, exact)\u001b[0m\n\u001b[1;32m    445\u001b[0m             \u001b[0merrors\u001b[0m\u001b[0;34m=\u001b[0m\u001b[0merrors\u001b[0m\u001b[0;34m,\u001b[0m\u001b[0;34m\u001b[0m\u001b[0;34m\u001b[0m\u001b[0m\n\u001b[1;32m    446\u001b[0m             \u001b[0mrequire_iso8601\u001b[0m\u001b[0;34m=\u001b[0m\u001b[0mrequire_iso8601\u001b[0m\u001b[0;34m,\u001b[0m\u001b[0;34m\u001b[0m\u001b[0;34m\u001b[0m\u001b[0m\n\u001b[0;32m--> 447\u001b[0;31m             \u001b[0mallow_object\u001b[0m\u001b[0;34m=\u001b[0m\u001b[0;32mTrue\u001b[0m\u001b[0;34m,\u001b[0m\u001b[0;34m\u001b[0m\u001b[0;34m\u001b[0m\u001b[0m\n\u001b[0m\u001b[1;32m    448\u001b[0m         )\n\u001b[1;32m    449\u001b[0m \u001b[0;34m\u001b[0m\u001b[0m\n",
      "\u001b[0;32m/opt/anaconda3/lib/python3.7/site-packages/pandas/core/arrays/datetimes.py\u001b[0m in \u001b[0;36mobjects_to_datetime64ns\u001b[0;34m(data, dayfirst, yearfirst, utc, errors, require_iso8601, allow_object)\u001b[0m\n\u001b[1;32m   1859\u001b[0m             \u001b[0;32mreturn\u001b[0m \u001b[0mvalues\u001b[0m\u001b[0;34m.\u001b[0m\u001b[0mview\u001b[0m\u001b[0;34m(\u001b[0m\u001b[0;34m\"i8\"\u001b[0m\u001b[0;34m)\u001b[0m\u001b[0;34m,\u001b[0m \u001b[0mtz_parsed\u001b[0m\u001b[0;34m\u001b[0m\u001b[0;34m\u001b[0m\u001b[0m\n\u001b[1;32m   1860\u001b[0m         \u001b[0;32mexcept\u001b[0m \u001b[0;34m(\u001b[0m\u001b[0mValueError\u001b[0m\u001b[0;34m,\u001b[0m \u001b[0mTypeError\u001b[0m\u001b[0;34m)\u001b[0m\u001b[0;34m:\u001b[0m\u001b[0;34m\u001b[0m\u001b[0;34m\u001b[0m\u001b[0m\n\u001b[0;32m-> 1861\u001b[0;31m             \u001b[0;32mraise\u001b[0m \u001b[0me\u001b[0m\u001b[0;34m\u001b[0m\u001b[0;34m\u001b[0m\u001b[0m\n\u001b[0m\u001b[1;32m   1862\u001b[0m \u001b[0;34m\u001b[0m\u001b[0m\n\u001b[1;32m   1863\u001b[0m     \u001b[0;32mif\u001b[0m \u001b[0mtz_parsed\u001b[0m \u001b[0;32mis\u001b[0m \u001b[0;32mnot\u001b[0m \u001b[0;32mNone\u001b[0m\u001b[0;34m:\u001b[0m\u001b[0;34m\u001b[0m\u001b[0;34m\u001b[0m\u001b[0m\n",
      "\u001b[0;32m/opt/anaconda3/lib/python3.7/site-packages/pandas/core/arrays/datetimes.py\u001b[0m in \u001b[0;36mobjects_to_datetime64ns\u001b[0;34m(data, dayfirst, yearfirst, utc, errors, require_iso8601, allow_object)\u001b[0m\n\u001b[1;32m   1850\u001b[0m             \u001b[0mdayfirst\u001b[0m\u001b[0;34m=\u001b[0m\u001b[0mdayfirst\u001b[0m\u001b[0;34m,\u001b[0m\u001b[0;34m\u001b[0m\u001b[0;34m\u001b[0m\u001b[0m\n\u001b[1;32m   1851\u001b[0m             \u001b[0myearfirst\u001b[0m\u001b[0;34m=\u001b[0m\u001b[0myearfirst\u001b[0m\u001b[0;34m,\u001b[0m\u001b[0;34m\u001b[0m\u001b[0;34m\u001b[0m\u001b[0m\n\u001b[0;32m-> 1852\u001b[0;31m             \u001b[0mrequire_iso8601\u001b[0m\u001b[0;34m=\u001b[0m\u001b[0mrequire_iso8601\u001b[0m\u001b[0;34m,\u001b[0m\u001b[0;34m\u001b[0m\u001b[0;34m\u001b[0m\u001b[0m\n\u001b[0m\u001b[1;32m   1853\u001b[0m         )\n\u001b[1;32m   1854\u001b[0m     \u001b[0;32mexcept\u001b[0m \u001b[0mValueError\u001b[0m \u001b[0;32mas\u001b[0m \u001b[0me\u001b[0m\u001b[0;34m:\u001b[0m\u001b[0;34m\u001b[0m\u001b[0;34m\u001b[0m\u001b[0m\n",
      "\u001b[0;32mpandas/_libs/tslib.pyx\u001b[0m in \u001b[0;36mpandas._libs.tslib.array_to_datetime\u001b[0;34m()\u001b[0m\n",
      "\u001b[0;32mpandas/_libs/tslib.pyx\u001b[0m in \u001b[0;36mpandas._libs.tslib.array_to_datetime\u001b[0;34m()\u001b[0m\n",
      "\u001b[0;32mpandas/_libs/tslib.pyx\u001b[0m in \u001b[0;36mpandas._libs.tslib.array_to_datetime\u001b[0;34m()\u001b[0m\n",
      "\u001b[0;32mpandas/_libs/tslib.pyx\u001b[0m in \u001b[0;36mpandas._libs.tslib.array_to_datetime\u001b[0;34m()\u001b[0m\n",
      "\u001b[0;32mpandas/_libs/tslibs/np_datetime.pyx\u001b[0m in \u001b[0;36mpandas._libs.tslibs.np_datetime.check_dts_bounds\u001b[0;34m()\u001b[0m\n",
      "\u001b[0;31mOutOfBoundsDatetime\u001b[0m: Out of bounds nanosecond timestamp: 1216-10-18 00:00:00"
     ]
    }
   ],
   "source": [
    "# change Acquisition Date from object to datetime\n",
    "\n",
    "artists_plus_artworks['Acquisition Date'] = pd.to_datetime(artists_plus_artworks['Acquisition Date'], \\\n",
    "                                            format='%Y/%m/%d')\n",
    "\n",
    "# there is an error: \n",
    "# \"OutOfBoundsDatetime: Out of bounds nanosecond timestamp: 1216-10-18 00:00:00\"\n",
    "# I will try to figure out what went wrong"
   ]
  },
  {
   "cell_type": "code",
   "execution_count": 715,
   "metadata": {},
   "outputs": [
    {
     "data": {
      "text/html": [
       "<div>\n",
       "<style scoped>\n",
       "    .dataframe tbody tr th:only-of-type {\n",
       "        vertical-align: middle;\n",
       "    }\n",
       "\n",
       "    .dataframe tbody tr th {\n",
       "        vertical-align: top;\n",
       "    }\n",
       "\n",
       "    .dataframe thead th {\n",
       "        text-align: right;\n",
       "    }\n",
       "</style>\n",
       "<table border=\"1\" class=\"dataframe\">\n",
       "  <thead>\n",
       "    <tr style=\"text-align: right;\">\n",
       "      <th></th>\n",
       "      <th>Acquisition Date</th>\n",
       "    </tr>\n",
       "  </thead>\n",
       "  <tbody>\n",
       "    <tr>\n",
       "      <th>108814</th>\n",
       "      <td>1216-10-18</td>\n",
       "    </tr>\n",
       "    <tr>\n",
       "      <th>39163</th>\n",
       "      <td>1929-11-19</td>\n",
       "    </tr>\n",
       "    <tr>\n",
       "      <th>10263</th>\n",
       "      <td>1929-11-19</td>\n",
       "    </tr>\n",
       "    <tr>\n",
       "      <th>10267</th>\n",
       "      <td>1929-11-19</td>\n",
       "    </tr>\n",
       "    <tr>\n",
       "      <th>63315</th>\n",
       "      <td>1929-11-19</td>\n",
       "    </tr>\n",
       "  </tbody>\n",
       "</table>\n",
       "</div>"
      ],
      "text/plain": [
       "       Acquisition Date\n",
       "108814       1216-10-18\n",
       "39163        1929-11-19\n",
       "10263        1929-11-19\n",
       "10267        1929-11-19\n",
       "63315        1929-11-19"
      ]
     },
     "execution_count": 715,
     "metadata": {},
     "output_type": "execute_result"
    }
   ],
   "source": [
    "# sort the 'Acquisition Date' in ascending order\n",
    " \n",
    "artists_plus_artworks['Acquisition Date'].sort_values().to_frame().head()"
   ]
  },
  {
   "cell_type": "code",
   "execution_count": 716,
   "metadata": {},
   "outputs": [
    {
     "data": {
      "text/html": [
       "<div>\n",
       "<style scoped>\n",
       "    .dataframe tbody tr th:only-of-type {\n",
       "        vertical-align: middle;\n",
       "    }\n",
       "\n",
       "    .dataframe tbody tr th {\n",
       "        vertical-align: top;\n",
       "    }\n",
       "\n",
       "    .dataframe thead th {\n",
       "        text-align: right;\n",
       "    }\n",
       "</style>\n",
       "<table border=\"1\" class=\"dataframe\">\n",
       "  <thead>\n",
       "    <tr style=\"text-align: right;\">\n",
       "      <th></th>\n",
       "      <th>Artist ID</th>\n",
       "      <th>Name_x</th>\n",
       "      <th>Acquisition Date</th>\n",
       "      <th>Birth Year</th>\n",
       "      <th>Death Year</th>\n",
       "    </tr>\n",
       "  </thead>\n",
       "  <tbody>\n",
       "    <tr>\n",
       "      <th>108814</th>\n",
       "      <td>34673</td>\n",
       "      <td>Residents</td>\n",
       "      <td>1216-10-18</td>\n",
       "      <td>1972.0</td>\n",
       "      <td>2021.0</td>\n",
       "    </tr>\n",
       "  </tbody>\n",
       "</table>\n",
       "</div>"
      ],
      "text/plain": [
       "       Artist ID     Name_x Acquisition Date  Birth Year  Death Year\n",
       "108814     34673  Residents       1216-10-18      1972.0      2021.0"
      ]
     },
     "execution_count": 716,
     "metadata": {},
     "output_type": "execute_result"
    }
   ],
   "source": [
    "# i noticed that 1216 is such a out of place year while the next earliest year is 1929\n",
    "# so I will locate the record containing the value \"1216-10-18\"\n",
    "\n",
    "artists_plus_artworks.loc[artists_plus_artworks['Acquisition Date'] == '1216-10-18']\n",
    "\n",
    "# i am assuming there was a typo in the orginal dataset and 1216 is suppose to be 2016"
   ]
  },
  {
   "cell_type": "code",
   "execution_count": 717,
   "metadata": {},
   "outputs": [],
   "source": [
    "# I will use the replace method to change 1216 to 2016\n",
    "\n",
    "artists_plus_artworks = artists_plus_artworks.replace(to_replace = '1216-10-18', value = '2016-10-18')"
   ]
  },
  {
   "cell_type": "code",
   "execution_count": 718,
   "metadata": {},
   "outputs": [
    {
     "data": {
      "text/html": [
       "<div>\n",
       "<style scoped>\n",
       "    .dataframe tbody tr th:only-of-type {\n",
       "        vertical-align: middle;\n",
       "    }\n",
       "\n",
       "    .dataframe tbody tr th {\n",
       "        vertical-align: top;\n",
       "    }\n",
       "\n",
       "    .dataframe thead th {\n",
       "        text-align: right;\n",
       "    }\n",
       "</style>\n",
       "<table border=\"1\" class=\"dataframe\">\n",
       "  <thead>\n",
       "    <tr style=\"text-align: right;\">\n",
       "      <th></th>\n",
       "      <th>Artist ID</th>\n",
       "      <th>Name_x</th>\n",
       "      <th>Acquisition Date</th>\n",
       "      <th>Birth Year</th>\n",
       "      <th>Death Year</th>\n",
       "    </tr>\n",
       "  </thead>\n",
       "  <tbody>\n",
       "  </tbody>\n",
       "</table>\n",
       "</div>"
      ],
      "text/plain": [
       "Empty DataFrame\n",
       "Columns: [Artist ID, Name_x, Acquisition Date, Birth Year, Death Year]\n",
       "Index: []"
      ]
     },
     "execution_count": 718,
     "metadata": {},
     "output_type": "execute_result"
    }
   ],
   "source": [
    "# i will relocate the value '1216-10-18'\n",
    "\n",
    "artists_plus_artworks.loc[artists_plus_artworks['Acquisition Date'] == '1216-10-18']\n",
    "\n",
    "# there is no more value of '1216-10-18' now"
   ]
  },
  {
   "cell_type": "code",
   "execution_count": 719,
   "metadata": {},
   "outputs": [
    {
     "name": "stdout",
     "output_type": "stream",
     "text": [
      "<class 'pandas.core.frame.DataFrame'>\n",
      "Int64Index: 132093 entries, 0 to 132092\n",
      "Data columns (total 5 columns):\n",
      " #   Column            Non-Null Count   Dtype         \n",
      "---  ------            --------------   -----         \n",
      " 0   Artist ID         130633 non-null  object        \n",
      " 1   Name_x            116576 non-null  object        \n",
      " 2   Acquisition Date  124799 non-null  datetime64[ns]\n",
      " 3   Birth Year        116576 non-null  float64       \n",
      " 4   Death Year        116576 non-null  float64       \n",
      "dtypes: datetime64[ns](1), float64(2), object(2)\n",
      "memory usage: 6.0+ MB\n"
     ]
    }
   ],
   "source": [
    "# # so let's see if changing the datatype will work now\n",
    "\n",
    "artists_plus_artworks['Acquisition Date'] = pd.to_datetime(artists_plus_artworks['Acquisition Date'], \\\n",
    "                                            format='%Y/%m/%d')\n",
    "\n",
    "artists_plus_artworks.info()\n",
    "\n",
    "# it worked! now 'Acquisition Date' is datetime format"
   ]
  },
  {
   "cell_type": "code",
   "execution_count": 720,
   "metadata": {},
   "outputs": [],
   "source": [
    "# now I will convert Birth Year and Death Year to datetime format\n",
    "\n",
    "artists_plus_artworks['Birth Year'] = pd.to_datetime(artists_plus_artworks['Birth Year'], format='%Y')\n",
    "artists_plus_artworks['Death Year'] = pd.to_datetime(artists_plus_artworks['Death Year'], format='%Y')"
   ]
  },
  {
   "cell_type": "code",
   "execution_count": 721,
   "metadata": {},
   "outputs": [
    {
     "name": "stdout",
     "output_type": "stream",
     "text": [
      "<class 'pandas.core.frame.DataFrame'>\n",
      "Int64Index: 132093 entries, 0 to 132092\n",
      "Data columns (total 5 columns):\n",
      " #   Column            Non-Null Count   Dtype         \n",
      "---  ------            --------------   -----         \n",
      " 0   Artist ID         130633 non-null  object        \n",
      " 1   Name_x            116576 non-null  object        \n",
      " 2   Acquisition Date  124799 non-null  datetime64[ns]\n",
      " 3   Birth Year        116576 non-null  datetime64[ns]\n",
      " 4   Death Year        116576 non-null  datetime64[ns]\n",
      "dtypes: datetime64[ns](3), object(2)\n",
      "memory usage: 6.0+ MB\n"
     ]
    }
   ],
   "source": [
    "# checking to see if it the formats changed\n",
    "\n",
    "artists_plus_artworks.info()\n",
    "\n",
    "# now Acquisition Date, Birth Year, and Death Year are in datetime format"
   ]
  },
  {
   "cell_type": "markdown",
   "metadata": {},
   "source": [
    "The next step I will need to download `pandasql` package to Jupyter. <br>\n",
    "I ran `pip install -U pandasql` in a cell. <br>\n",
    "Now I can query in SQL using `pandas` instead of using a database software."
   ]
  },
  {
   "cell_type": "code",
   "execution_count": 722,
   "metadata": {},
   "outputs": [],
   "source": [
    "# import sqldf\n",
    "from pandasql import sqldf\n",
    "\n",
    "# sqldf method allows me to write in SQL and store it in a dataframe\n",
    "artists_plus_artworks = sqldf(\"SELECT Name_x, `Birth Year`, `Death Year`,`Acquisition Date` \\\n",
    "                               FROM artists_plus_artworks \\\n",
    "                               WHERE (`Acquisition Date` > `Birth Year`) AND (`Acquisition Date` < `Death Year`);\")\n"
   ]
  },
  {
   "cell_type": "code",
   "execution_count": 723,
   "metadata": {},
   "outputs": [
    {
     "data": {
      "text/html": [
       "<div>\n",
       "<style scoped>\n",
       "    .dataframe tbody tr th:only-of-type {\n",
       "        vertical-align: middle;\n",
       "    }\n",
       "\n",
       "    .dataframe tbody tr th {\n",
       "        vertical-align: top;\n",
       "    }\n",
       "\n",
       "    .dataframe thead th {\n",
       "        text-align: right;\n",
       "    }\n",
       "</style>\n",
       "<table border=\"1\" class=\"dataframe\">\n",
       "  <thead>\n",
       "    <tr style=\"text-align: right;\">\n",
       "      <th></th>\n",
       "      <th>Name_x</th>\n",
       "      <th>Birth Year</th>\n",
       "      <th>Death Year</th>\n",
       "      <th>Acquisition Date</th>\n",
       "    </tr>\n",
       "  </thead>\n",
       "  <tbody>\n",
       "    <tr>\n",
       "      <th>0</th>\n",
       "      <td>Robert Arneson</td>\n",
       "      <td>1930-01-01 00:00:00.000000</td>\n",
       "      <td>1992-01-01 00:00:00.000000</td>\n",
       "      <td>1981-04-28 00:00:00.000000</td>\n",
       "    </tr>\n",
       "    <tr>\n",
       "      <th>1</th>\n",
       "      <td>Doroteo Arnaiz</td>\n",
       "      <td>1936-01-01 00:00:00.000000</td>\n",
       "      <td>2021-01-01 00:00:00.000000</td>\n",
       "      <td>1965-03-09 00:00:00.000000</td>\n",
       "    </tr>\n",
       "    <tr>\n",
       "      <th>2</th>\n",
       "      <td>Bill Arnold</td>\n",
       "      <td>1941-01-01 00:00:00.000000</td>\n",
       "      <td>2021-01-01 00:00:00.000000</td>\n",
       "      <td>1972-03-07 00:00:00.000000</td>\n",
       "    </tr>\n",
       "    <tr>\n",
       "      <th>3</th>\n",
       "      <td>Bill Arnold</td>\n",
       "      <td>1941-01-01 00:00:00.000000</td>\n",
       "      <td>2021-01-01 00:00:00.000000</td>\n",
       "      <td>1972-03-07 00:00:00.000000</td>\n",
       "    </tr>\n",
       "    <tr>\n",
       "      <th>4</th>\n",
       "      <td>Bill Arnold</td>\n",
       "      <td>1941-01-01 00:00:00.000000</td>\n",
       "      <td>2021-01-01 00:00:00.000000</td>\n",
       "      <td>1972-03-07 00:00:00.000000</td>\n",
       "    </tr>\n",
       "  </tbody>\n",
       "</table>\n",
       "</div>"
      ],
      "text/plain": [
       "           Name_x                  Birth Year                  Death Year  \\\n",
       "0  Robert Arneson  1930-01-01 00:00:00.000000  1992-01-01 00:00:00.000000   \n",
       "1  Doroteo Arnaiz  1936-01-01 00:00:00.000000  2021-01-01 00:00:00.000000   \n",
       "2     Bill Arnold  1941-01-01 00:00:00.000000  2021-01-01 00:00:00.000000   \n",
       "3     Bill Arnold  1941-01-01 00:00:00.000000  2021-01-01 00:00:00.000000   \n",
       "4     Bill Arnold  1941-01-01 00:00:00.000000  2021-01-01 00:00:00.000000   \n",
       "\n",
       "             Acquisition Date  \n",
       "0  1981-04-28 00:00:00.000000  \n",
       "1  1965-03-09 00:00:00.000000  \n",
       "2  1972-03-07 00:00:00.000000  \n",
       "3  1972-03-07 00:00:00.000000  \n",
       "4  1972-03-07 00:00:00.000000  "
      ]
     },
     "execution_count": 723,
     "metadata": {},
     "output_type": "execute_result"
    }
   ],
   "source": [
    "# here's a quick look at the queried data\n",
    "\n",
    "artists_plus_artworks.head()\n",
    "\n",
    "# all of these 'Acquisition Date' are between the 'Birth Year' and 'Death Year'"
   ]
  },
  {
   "cell_type": "code",
   "execution_count": 724,
   "metadata": {},
   "outputs": [
    {
     "name": "stdout",
     "output_type": "stream",
     "text": [
      "<class 'pandas.core.frame.DataFrame'>\n",
      "RangeIndex: 71213 entries, 0 to 71212\n",
      "Data columns (total 4 columns):\n",
      " #   Column            Non-Null Count  Dtype \n",
      "---  ------            --------------  ----- \n",
      " 0   Name_x            71213 non-null  object\n",
      " 1   Birth Year        71213 non-null  object\n",
      " 2   Death Year        71213 non-null  object\n",
      " 3   Acquisition Date  71213 non-null  object\n",
      "dtypes: object(4)\n",
      "memory usage: 2.2+ MB\n"
     ]
    }
   ],
   "source": [
    "# quick look at the info\n",
    "\n",
    "artists_plus_artworks.info()\n",
    "\n",
    "# from this, there are 71,213 artworks that got acquired during that artist's lifetime"
   ]
  },
  {
   "cell_type": "code",
   "execution_count": 725,
   "metadata": {},
   "outputs": [
    {
     "data": {
      "text/plain": [
       "Louise Bourgeois     2425\n",
       "Lee Friedlander      1314\n",
       "Jean Dubuffet        1217\n",
       "Marc Chagall         1156\n",
       "Pablo Picasso        1090\n",
       "                     ... \n",
       "Eugene Martinez         1\n",
       "Jacques Lacomblez       1\n",
       "Karl Anton Fleck        1\n",
       "Daniel Askill           1\n",
       "Nicolas Schöffer        1\n",
       "Name: Name_x, Length: 7555, dtype: int64"
      ]
     },
     "execution_count": 725,
     "metadata": {},
     "output_type": "execute_result"
    }
   ],
   "source": [
    "# use value_counts method to see how many distinct artists had artwork acquired during their lifetime\n",
    "\n",
    "artists_plus_artworks['Name_x'].value_counts()"
   ]
  },
  {
   "cell_type": "markdown",
   "metadata": {},
   "source": [
    "### Did any artists have artwork acquired during their lifetime?\n",
    "Yes, there are a total of 7,555 artists that had artwork(s) acquired during their lifetime. <br>\n",
    "Louise Bourgeois had the most artworks acquired during her lifetime at 2,425 pieces. "
   ]
  },
  {
   "cell_type": "markdown",
   "metadata": {},
   "source": [
    "# 5. Data quality review and issues I ran into\n",
    "---"
   ]
  },
  {
   "cell_type": "markdown",
   "metadata": {},
   "source": [
    "## Data Quality:\n",
    "- At first glance, I could tell that the `artists` data looks easier to browse through. \n",
    "- There were lots of null values in the `Birth Year` and `Death Year` columns. \n",
    "- I made an assumption that null values in `Death Year` means that the artist is still alive. That was an error because there was an artist born in 1731 with a null `Death Year`. I had to go back and revise my cleaning to be more accurate.\n",
    "- For the `artworks` data, although I did not use a lot of the columns for my analysis, there were tons of nulls for every column.\n",
    "- I found out that there was an outlier date of `1216-10-18` for the `Acquisition Date` column. It was even formatted different on the csv file. \n",
    "- While I was solving Question 3, I noticed that Richard Serra's artwork [\"To Lift\"](https://www.moma.org/collection/works/101902) had a height of 9140 cm when it was suppose to be 91.4 cm. Good thing that data error didn't make Richard the top artist when I was doing my analysis. \n",
    "- I assume that there are tons more errors, big or small, in these datasets, and that's the reality of dirty data. "
   ]
  },
  {
   "cell_type": "markdown",
   "metadata": {},
   "source": [
    "## Problems I faced:\n",
    "- The results of the oldest living artist was a company intead of a artist or person. I had to move on to the second top result since the first one was inaccurate.\n",
    "- In the artworks dataset, there are many unknown artists that is labeled as `Unknown photographer` instead of being null. Because of that, it messed up my analysis. \n",
    "- I had a tough time understanding what question 3 really meant by total surface area. I say this because most measurements were null except for `Height (cm)` and `Width (cm)`. I ended up adding `Depth (cm)` to the surface area equation to be able to work with more data.\n",
    "- For question 4, I ran into issues when converting the `Acquisition Date` datatype from object to datetime. I found out that there is a timestamp of `1216-10-18`, which is a clear error so. After changing the value, my code to convert the datatype format worked.\n",
    "- I made the mistake of concatenating my datasets together instead of merging them. `Concat` left a lot of null values for `Birth Year` and `Death Year`, while `merge` properly joined the datasets together. This made searching for my conditions a lot easier."
   ]
  },
  {
   "cell_type": "markdown",
   "metadata": {},
   "source": [
    "## What I learned:\n",
    "- I need to make sure I understand the question correctly before I even start my cleaning process and analysis.\n",
    "- The quality of the data will not always be perfect, so I have to minimize as much errors as possible to maximize accuracy of results.\n",
    "- Some questions took longer to prepare for, while other questions were quicker to obtain the result.\n",
    "- Paying attention to the amount of non-null and null values in each column can give you a better understanding of what is going on and can help with troubleshooting.\n",
    "- I learned how to join 2 datasets together using `merge` method in `pandas`, just like how SQL uses `JOIN`."
   ]
  }
 ],
 "metadata": {
  "kernelspec": {
   "display_name": "Python 3",
   "language": "python",
   "name": "python3"
  },
  "language_info": {
   "codemirror_mode": {
    "name": "ipython",
    "version": 3
   },
   "file_extension": ".py",
   "mimetype": "text/x-python",
   "name": "python",
   "nbconvert_exporter": "python",
   "pygments_lexer": "ipython3",
   "version": "3.7.6"
  }
 },
 "nbformat": 4,
 "nbformat_minor": 4
}
